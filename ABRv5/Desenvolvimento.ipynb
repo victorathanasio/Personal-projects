{
 "cells": [
  {
   "cell_type": "code",
   "execution_count": null,
   "outputs": [],
   "source": [
    "import pandas as pd\n",
    "import matplotlib.pyplot as plt\n",
    "from wordcloud import WordCloud\n",
    "import pandasql as ps"
   ],
   "metadata": {
    "collapsed": false,
    "pycharm": {
     "name": "#%%\n"
    }
   }
  },
  {
   "cell_type": "code",
   "execution_count": null,
   "outputs": [],
   "source": [
    "# le excel\n",
    "pesquisa = pd.read_excel('pesquisa_selenium.xlsx')\n",
    "print('O formato da pesquisa quando entra é:', pesquisa.shape)\n",
    "pesquisa = pesquisa[pesquisa['Authors'].notnull()]\n",
    "pesquisa = pesquisa[pesquisa['Abstract'] != 'None']\n",
    "pesquisa = pesquisa[pesquisa['Authors'] != 'None']\n",
    "pesquisa = pesquisa[pesquisa['Keywords'] != 'None']\n",
    "pesquisa = pesquisa.astype(str)\n",
    "print('O formato da pesquisa após retirada de autores, abstracts e keywords nulos é:', pesquisa.shape)\n",
    "\n",
    "pesquisa_sem_dupli = pesquisa.drop_duplicates(subset='Link', keep=\"first\")\n",
    "print('O formato da pesquisa após retirada de duplicatas:', pesquisa_sem_dupli.shape)\n"
   ],
   "metadata": {
    "collapsed": false,
    "pycharm": {
     "name": "#%%\n"
    }
   }
  },
  {
   "cell_type": "code",
   "execution_count": null,
   "outputs": [],
   "source": [
    "def contagem_modular(campo, df, separator):\n",
    "    splited = df[campo].str.split(separator, expand=True)\n",
    "    colum_form = splited[0]\n",
    "    for a in range(1, len(splited.columns)):\n",
    "        colum_form = pd.concat([colum_form, splited[a]])\n",
    "    colum_form = colum_form.to_frame()\n",
    "    colum_form = colum_form[colum_form[0] != 'None']\n",
    "    colum_form = colum_form[colum_form[0] != ' ']\n",
    "    colum_form = colum_form[colum_form[0] != '']\n",
    "    colum_form = colum_form[colum_form[0].notnull()]\n",
    "    colum_form[0] = colum_form[0].apply(Normalize)\n",
    "    if campo == 'Keywords':\n",
    "        colum_form[0] = colum_form[0].apply(low)\n",
    "    colum_form_noreps = colum_form.drop_duplicates(keep=\"first\")\n",
    "    colum_form_noreps['Contagem'] = colum_form_noreps[0].map(colum_form[0].value_counts())\n",
    "    return colum_form_noreps.sort_values(['Contagem'], ascending=[False])\n",
    "\n",
    "\n",
    "def Normalize(x):\n",
    "    for i in range(4):\n",
    "        while x[0] == ' ':\n",
    "            x = x[1:]\n",
    "        while x[0] == ';':\n",
    "            x = x[1:]\n",
    "        while x[-1] == ' ':\n",
    "            x = x[:-1]\n",
    "        while x[-1] == ';':\n",
    "            x = x[:-1]\n",
    "    return x\n",
    "\n",
    "\n",
    "def low(string):\n",
    "    return string.lower()\n"
   ],
   "metadata": {
    "collapsed": false,
    "pycharm": {
     "name": "#%%\n"
    }
   }
  },
  {
   "cell_type": "code",
   "execution_count": null,
   "outputs": [],
   "source": [
    "analises = []\n",
    "\n",
    "cont_autores = contagem_modular('Authors', pesquisa, ';')\n",
    "cont_autores = cont_autores.rename(columns={0: 'Authors'})\n",
    "cont_autores_sem_rep = contagem_modular('Authors', pesquisa_sem_dupli, ';')\n",
    "cont_autores_sem_rep = cont_autores_sem_rep.rename(columns={0: 'Authors sem duplicatas'})\n",
    "\n",
    "cont_Keywords = contagem_modular('Keywords', pesquisa, ';')\n",
    "cont_Keywords = cont_Keywords.rename(columns={0: 'Keywords'})\n",
    "cont_Keywords_sem_rep = contagem_modular('Keywords', pesquisa_sem_dupli, ';')\n",
    "cont_Keywords_sem_rep = cont_Keywords_sem_rep.rename(columns={0: 'Keywords sem duplicatas'})\n",
    "\n",
    "cont_Periodic = contagem_modular('Periodic', pesquisa, ';')\n",
    "cont_Periodic = cont_Periodic.rename(columns={0: 'Periodic'})\n",
    "cont_Periodic_sem_rep = contagem_modular('Periodic', pesquisa_sem_dupli, ';')\n",
    "cont_Periodic_sem_rep = cont_Periodic_sem_rep.rename(columns={0: 'Periodic sem duplicatas'})\n",
    "\n",
    "cont_Plataforma = contagem_modular('Plataforma', pesquisa, ';')\n",
    "cont_Plataforma = cont_Plataforma.rename(columns={0: 'Plataforma'})\n",
    "cont_Plataforma_sem_rep = contagem_modular('Plataforma', pesquisa_sem_dupli, ';')\n",
    "cont_Plataforma_sem_rep = cont_Plataforma_sem_rep.rename(columns={0: 'Plataforma sem duplicatas'})\n",
    "\n",
    "cont_Year = contagem_modular('Year', pesquisa, ';')\n",
    "cont_Year = cont_Year.rename(columns={0: 'Year'})\n",
    "cont_Year_sem_rep = contagem_modular('Year', pesquisa_sem_dupli, ';')\n",
    "cont_Year_sem_rep = cont_Year_sem_rep.rename(columns={0: 'Year sem duplicatas'})\n",
    "\n",
    "analises.append(cont_autores)\n",
    "analises.append(cont_autores_sem_rep)\n",
    "analises.append(cont_Keywords)\n",
    "analises.append(cont_Keywords_sem_rep)\n",
    "analises.append(cont_Periodic)\n",
    "analises.append(cont_Periodic_sem_rep)\n",
    "analises.append(cont_Plataforma)\n",
    "analises.append(cont_Plataforma_sem_rep)\n",
    "analises.append(cont_Year)\n",
    "analises.append(cont_Year_sem_rep)\n",
    "\n",
    "pesquisa_sem_dupli['Contagem'] = pesquisa_sem_dupli['Link'].map(pesquisa['Link'].value_counts())\n",
    "pesquisa_sem_dupli = pesquisa_sem_dupli.sort_values(['Contagem'], ascending=[False])"
   ],
   "metadata": {
    "collapsed": false,
    "pycharm": {
     "name": "#%%\n"
    }
   }
  },
  {
   "cell_type": "code",
   "execution_count": null,
   "outputs": [],
   "source": [
    "for df in analises[-2:]:\n",
    "    name = df.columns[0]\n",
    "    df.set_index(df.columns[0], inplace=True)\n",
    "    df.sort_index(inplace=True)\n",
    "    df = df.astype(int)\n",
    "    df = df.rename(columns={'Year':'Ano'})\n",
    "    df.index.name = df.index.name.replace('Year', 'Ano')\n",
    "    a = df.plot.line(title='Artigos por ano', figsize=(12, 6))\n",
    "\n",
    "    fig = a.get_figure()\n",
    "    fig.savefig('wordcloud/' + name + 'pandas')\n"
   ],
   "metadata": {
    "collapsed": false,
    "pycharm": {
     "name": "#%% graficos\n"
    }
   }
  },
  {
   "cell_type": "code",
   "execution_count": null,
   "outputs": [],
   "source": [
    "explode = (0, 0.1, 0, 0)\n",
    "for df in analises[-4:-2]:\n",
    "    name = df.columns[0]\n",
    "    df.set_index(df.columns[0], inplace=True)\n",
    "    df.sort_index(inplace=True)\n",
    "    df = df.astype(int)\n",
    "    a = df.plot.pie(title='Artigos por plataforma', y='Contagem', figsize=(10, 8),\n",
    "                    explode=explode, autopct='%1.1f%%',\n",
    "                    shadow=True, startangle=90)\n",
    "    fig = a.get_figure()\n",
    "    fig.savefig('wordcloud/' + name + 'pandas')"
   ],
   "metadata": {
    "collapsed": false,
    "pycharm": {
     "name": "#%% pizza charts\n"
    }
   }
  },
  {
   "cell_type": "code",
   "execution_count": null,
   "outputs": [],
   "source": [
    "for df in analises:\n",
    "    df.reset_index(inplace=True)\n",
    "    try:\n",
    "        df = df.drop(columns=['index'])\n",
    "    except:\n",
    "        pass\n",
    "    tuples = [tuple(x) for x in df.values]\n",
    "    wordcloud = WordCloud(width=900, height=400, max_words=100).generate_from_frequencies(dict(tuples))\n",
    "    plt.figure(figsize=(20, 10))\n",
    "    #plt.suptitle(df.columns[0], fontsize=25)\n",
    "    plt.imshow(wordcloud, interpolation=\"bilinear\")\n",
    "    plt.axis(\"off\")\n",
    "    plt.savefig('wordcloud/' + df.columns[0])"
   ],
   "metadata": {
    "collapsed": false,
    "pycharm": {
     "name": "#%%wordclouds\n"
    }
   }
  },
  {
   "cell_type": "code",
   "execution_count": null,
   "outputs": [],
   "source": [
    "# 2 vezes\n",
    "cont_x = 1\n",
    "# top 50\n",
    "cont_top = 50\n",
    "# autores que aparecem 2 vezes ou mais cont_aut\n",
    "cont_aut = 2\n",
    "cont_key = 6\n",
    "pesquisa_sem_dupli['Contagem'] = pesquisa_sem_dupli['Contagem'].astype(int)\n",
    "pesquisa_sem_dupli['Year'] = pesquisa_sem_dupli['Year'].astype(int)\n",
    "pesquisa_sem_dupli['Relevancia'] = pesquisa_sem_dupli['Relevancia'].astype(int)\n",
    "art_relevant = pesquisa_sem_dupli[pesquisa_sem_dupli['Contagem'] >= cont_x]\n",
    "\n",
    "\n",
    "def checa_autor(autores):\n",
    "    autores_list = autores.values\n",
    "    saida = []\n",
    "    for autores in autores_list:\n",
    "        autores = autores.split(';')\n",
    "        check = False\n",
    "        for autor in autores:\n",
    "            if autor != ' ':\n",
    "                autor = Normalize(autor)\n",
    "            row = cont_autores_sem_rep[cont_autores_sem_rep['Authors sem duplicatas'] == autor]\n",
    "            try:\n",
    "                contagem = row['Contagem'].values[0]\n",
    "            except:\n",
    "                contagem = 0\n",
    "            if contagem >= cont_aut:\n",
    "                check = True\n",
    "        if check:\n",
    "            saida.append(True)\n",
    "        else:\n",
    "            saida.append(False)\n",
    "    return saida\n",
    "\n",
    "def checa_key(key):\n",
    "    keys_list = key.values\n",
    "    saida = []\n",
    "    for keys in keys_list:\n",
    "        keys = keys.split(';')\n",
    "        check = False\n",
    "        for key in keys:\n",
    "            if key != ' ':\n",
    "                key = Normalize(key).lower()\n",
    "            row = cont_Keywords_sem_rep[cont_Keywords_sem_rep['Keywords sem duplicatas'] == key]\n",
    "            try:\n",
    "                contagem = row['Contagem'].values[0]\n",
    "            except:\n",
    "                contagem = 0\n",
    "            if contagem >= cont_key:\n",
    "                check = True\n",
    "        if check:\n",
    "            saida.append(True)\n",
    "        else:\n",
    "            saida.append(False)\n",
    "    return saida\n",
    "\n",
    "art_relevant = art_relevant[art_relevant['Relevancia'] <= cont_top]\n",
    "art_relevant = art_relevant[checa_autor(art_relevant['Authors'])]\n",
    "art_relevant = art_relevant[checa_key(art_relevant['Keywords'])]"
   ],
   "metadata": {
    "collapsed": false,
    "pycharm": {
     "name": "#%% artigos relevantes\n"
    }
   }
  },
  {
   "cell_type": "code",
   "execution_count": null,
   "outputs": [],
   "source": [],
   "metadata": {
    "collapsed": false,
    "pycharm": {
     "name": "#%%\n"
    }
   }
  },
  {
   "cell_type": "code",
   "execution_count": null,
   "outputs": [],
   "source": [
    "pesquisa_sem_dupli['Termo'] = pesquisa_sem_dupli['Termo'].str.replace('anywhere','')\n",
    "pesquisa_sem_dupli['Termo'] = pesquisa_sem_dupli['Termo'].str.replace('\"','')\n",
    "pesquisa_sem_dupli['Termo'] = pesquisa_sem_dupli['Termo'].apply(Normalize)\n",
    "\n",
    "\n",
    "\n",
    "q1 = \"\"\"SELECT Termo FROM pesquisa_sem_dupli GROUP BY Termo\"\"\"\n",
    "\n",
    "termos = ps.sqldf(q1, locals())\n",
    "\n",
    "\n",
    "\n",
    "dfs = []\n",
    "for i in range(4):\n",
    "    termo = termos.Termo[i]\n",
    "    print(termo)\n",
    "    q1 = \"\"\"SELECT Year, Count(*) FROM pesquisa_sem_dupli WHERE Termo = '{}' GROUP BY Year\"\"\".format(termo)\n",
    "    frame = ps.sqldf(q1, locals())\n",
    "    frame = frame.rename(columns={'Count(*)': termo, 'Year':'Ano'})\n",
    "    name = frame.columns[0]\n",
    "    frame.set_index(frame.columns[0], inplace=True)\n",
    "    frame.sort_index(inplace=True)\n",
    "    dfs.append(frame)\n",
    "\n",
    "# q1 = \"\"\"SELECT Year , Count(*) FROM pesquisa_sem_dupli GROUP BY Year\"\"\"\n",
    "# total = ps.sqldf(q1, locals())\n",
    "# total = total.rename(columns={'Count(*)': 'Total'})\n",
    "# name = total.columns[0]\n",
    "# total.set_index(total.columns[0], inplace=True)\n",
    "# total.sort_index(inplace=True)\n",
    "# dfs.append(total)\n",
    "\n",
    "df_master = dfs[2]\n",
    "df_master.loc[2012] = 0\n",
    "for i in range(4):\n",
    "    if i != 2:\n",
    "        df = dfs[i]\n",
    "        df_master[df.columns[-1]] = df[df.columns[-1]]\n",
    "        print(df.columns[-1])\n",
    "\n",
    "\n",
    "\n",
    "\n",
    "df_master.sort_index(inplace=True)\n",
    "a = df_master.plot.line(title=name, figsize=(12, 6))\n",
    "fig = a.get_figure()\n",
    "fig.savefig('wordcloud/time_series_termos')"
   ],
   "metadata": {
    "collapsed": false,
    "pycharm": {
     "name": "#%% Grafico de todos os termos juntos\n"
    }
   }
  },
  {
   "cell_type": "code",
   "execution_count": null,
   "outputs": [],
   "source": [
    "art_relevant_latex = art_relevant[['Title','Link']]"
   ],
   "metadata": {
    "collapsed": false,
    "pycharm": {
     "name": "#%%\n"
    }
   }
  },
  {
   "cell_type": "code",
   "execution_count": null,
   "outputs": [],
   "source": [
    "art_relevant_latex.to_latex('principais.tex',column_format='p{8cm}p{13cm}',index=False,label='table:Principais',longtable=False, escape=False)"
   ],
   "metadata": {
    "collapsed": false,
    "pycharm": {
     "name": "#%%\n"
    }
   }
  },
  {
   "cell_type": "code",
   "execution_count": null,
   "outputs": [],
   "source": [],
   "metadata": {
    "collapsed": false,
    "pycharm": {
     "name": "#%%\n"
    }
   }
  },
  {
   "cell_type": "code",
   "execution_count": null,
   "outputs": [],
   "source": [
    "writer = pd.ExcelWriter('resultado_analise.xlsx', engine='xlsxwriter')\n",
    "workbook = writer.book\n",
    "\n",
    "worksheet = workbook.add_worksheet('Resultado consolidado')\n",
    "writer.sheets['Resultado consolidado'] = worksheet\n",
    "pesquisa_sem_dupli.to_excel(writer, sheet_name='Resultado consolidado', startrow=0, startcol=0, index=False)\n",
    "\n",
    "worksheet = workbook.add_worksheet('Artigos mais relevantes')\n",
    "writer.sheets['Artigos mais relevantes'] = worksheet\n",
    "art_relevant.to_excel(writer, sheet_name='Artigos mais relevantes', startrow=0, startcol=0, index=False)\n",
    "\n",
    "\n",
    "def escreve_contagens(cont, cont_sem_rep, analise):\n",
    "    worksheet = workbook.add_worksheet(analise)\n",
    "    writer.sheets[analise] = worksheet\n",
    "    worksheet.write_string(0, 0, analise)\n",
    "    cont.to_excel(writer, sheet_name=analise, startrow=1, startcol=0, index=False)\n",
    "\n",
    "    worksheet.write_string(0, 3, analise + 'após exclusão dos artigos repetidos')\n",
    "    cont_sem_rep.to_excel(writer, sheet_name=analise, startrow=1, startcol=3, index=False)\n",
    "\n",
    "\n",
    "escreve_contagens(cont_autores, cont_autores_sem_rep, 'Contagem dos autores ')\n",
    "escreve_contagens(cont_Keywords, cont_Keywords_sem_rep, 'Contagem dos keywords ')\n",
    "escreve_contagens(cont_Periodic, cont_Periodic_sem_rep, 'Contagem por periodico ')\n",
    "escreve_contagens(cont_Plataforma, cont_Plataforma_sem_rep, 'Contagem por plataforma ')\n",
    "escreve_contagens(cont_Year, cont_Year_sem_rep, 'Contagem por ano ')\n",
    "writer.save()\n"
   ],
   "metadata": {
    "collapsed": false,
    "pycharm": {
     "name": "#%%\n"
    }
   }
  },
  {
   "cell_type": "code",
   "execution_count": 53,
   "outputs": [],
   "source": [
    "titles_mais_rel = pd.read_excel('Resultado_analise_final.xlsx')"
   ],
   "metadata": {
    "collapsed": false,
    "pycharm": {
     "name": "#%%\n"
    }
   }
  },
  {
   "cell_type": "code",
   "execution_count": 65,
   "outputs": [],
   "source": [
    "titulos_list = titles_mais_rel['Titulos'].to_list()\n",
    "q1 = \"\"\"SELECT * FROM pesquisa_sem_dupli WHERE Title LIKE '%{}%'\"\"\".format(titulos_list[0][5:-5])\n",
    "df =  ps.sqldf(q1, locals())\n",
    "\n",
    "\n",
    "for titulo in titulos_list[1:]:\n",
    "    q1 = \"\"\"SELECT * FROM pesquisa_sem_dupli WHERE Title LIKE '%{}%'\"\"\".format(titulo[5:-5])\n",
    "    art = ps.sqldf(q1, locals())\n",
    "    df = df.append(art)\n",
    "df = df.reset_index().drop(columns=['index'])"
   ],
   "metadata": {
    "collapsed": false,
    "pycharm": {
     "name": "#%%\n"
    }
   }
  },
  {
   "cell_type": "code",
   "execution_count": 88,
   "outputs": [],
   "source": [
    "df_campos = pd.DataFrame()\n",
    "df_campos['Título'] = df['Title']#,'Year','Authors']\n",
    "df_campos['Autores'] = df['Authors']\n",
    "df_campos['Ano'] = df['Year']\n"
   ],
   "metadata": {
    "collapsed": false,
    "pycharm": {
     "name": "#%%\n"
    }
   }
  },
  {
   "cell_type": "code",
   "execution_count": 93,
   "outputs": [],
   "source": [
    "writer = pd.ExcelWriter('Resultado_analise_final.xlsx', engine='xlsxwriter')\n",
    "workbook = writer.book\n",
    "\n",
    "worksheet = workbook.add_worksheet('Titulos_principais')\n",
    "writer.sheets['Titulos_principais'] = worksheet\n",
    "titles_mais_rel.to_excel(writer, sheet_name='Titulos_principais', startrow=0, startcol=0, index=False)\n",
    "\n",
    "worksheet = workbook.add_worksheet('Artigos_principais')\n",
    "writer.sheets['Artigos_principais'] = worksheet\n",
    "df.to_excel(writer, sheet_name='Artigos_principais', startrow=0, startcol=0, index=False)\n",
    "\n",
    "worksheet = workbook.add_worksheet('Tabela')\n",
    "writer.sheets['Tabela'] = worksheet\n",
    "df_campos.to_excel(writer, sheet_name='Tabela', startrow=0, startcol=0, index=False)\n",
    "writer.save()"
   ],
   "metadata": {
    "collapsed": false,
    "pycharm": {
     "name": "#%%\n"
    }
   }
  },
  {
   "cell_type": "code",
   "execution_count": 185,
   "outputs": [
    {
     "name": "stdout",
     "output_type": "stream",
     "text": [
      "GHAJARGAR, M.;MANGANO, G.;MARCO, A. D.;GIANNANTONIO, R.\n",
      "GHAJARGAR\n",
      "Design Thinking Applied to Data Storage Innovation: A Case Study\n",
      "The Design Journal\n",
      "\n",
      "\n",
      "TU, M.;LIM, M. K.;YANG, M.\n",
      "TU\n",
      "IoT-based production logistics and supply chain system – Part 1: Modeling IoT-based manufacturing supply chain\n",
      "Industrial Management & Data Systems\n",
      "\n",
      "\n",
      "GRIECO, L. A.;RIZZO, A.;COLUCCI, S.;SICARI, S.;PIRO, G.;PAOLA, D. D.;BOGGIA, G.\n",
      "GRIECO\n",
      "IoT-aided robotics applications: Technological implications, target domains and open issues\n",
      "Computer Communications\n",
      "\n",
      "\n",
      "SHIN, D.\n",
      "SHIN\n",
      "Conceptualizing and measuring quality of experience of the internet of things: Exploring how quality is perceived by users\n",
      "Information & Management\n",
      "\n",
      "\n",
      "RANE, S. B.;POTDAR, P. R.;RANE, S.\n",
      "RANE\n",
      "Development of Project Risk Management framework based on Industry 4.0 technologies\n",
      "Benchmarking: An International Journal\n",
      "\n",
      "\n",
      "TU, M.;LIM, M. K.;YANG, M.\n",
      "TU2\n",
      "IoT-based production logistics and supply chain system – Part 2: IoT-based cyber-physical system: a framework and evaluation\n",
      "Industrial Management & Data Systems\n",
      "\n",
      "\n",
      "TU, M.\n",
      "TU3\n",
      "An exploratory study of Internet of Things (IoT) adoption intention in logistics and supply chain management: A mixed research approach\n",
      "The International Journal of Logistics Management\n",
      "\n",
      "\n",
      "BURCHARDT, C.;MAISCH, B.\n",
      "BURCHARDT\n",
      "Advanced agile approaches to improve engineering activities\n",
      "Procedia Manufacturing\n",
      "\n",
      "\n",
      "LEMINEN, S.;RAJAHONKA, M.;WENDELIN, R.;WESTERLUND, M.\n",
      "LEMINEN\n",
      "Industrial internet of things business models in the machine-to-machine context\n",
      "Industrial Marketing Management\n",
      "\n",
      "\n",
      "WÓJCIK, M.\n",
      "WÓJCIK\n",
      "How to design innovative information services at the library?\n",
      "Library Hi Tech\n",
      "\n",
      "\n",
      "MIRANDA, J.;PÉREZ-RODRÍGUEZ, R.;BORJA, V.;WRIGHT, P. K.;MOLINA, A.\n",
      "MIRANDA\n",
      "Sensing, smart and sustainable product development (S3 product) reference framework\n",
      "International Journal of Production Research\n",
      "\n",
      "\n",
      "LEMINEN, S.;RAJAHONKA, M.;WESTERLUND, M.;WENDELIN, R.\n",
      "LEMINEN2\n",
      "The future of the Internet of Things: toward heterarchical ecosystems and service business models\n",
      "Journal of Business & Industrial Marketing\n",
      "\n",
      "\n",
      "LIN, J.;SHEN, Z.;MIAO, C.;LIU, S.\n",
      "LIN\n",
      "Using blockchain to build trusted LoRaWAN sharing server\n",
      "International Journal of Crowd Science\n",
      "\n",
      "\n",
      "HARWOOD, T.;GARRY, T.;BELK, R.\n",
      "HARWOOD\n",
      "Design fiction diegetic prototyping: a research framework for visualizing service innovations\n",
      "Journal of Services Marketing\n",
      "\n",
      "\n",
      "GHAFFARI, K.;LAGZIAN, M.;KAZEMI, M.;MALEKZADEH, G.\n",
      "GHAFFARI\n",
      "A comprehensive framework for Internet of Things development: A grounded theory study of requirements\n",
      "Journal of Enterprise Information Management\n",
      "\n",
      "\n",
      "LIANG, X.;CHEN, Y.\n",
      "LIANG\n",
      "Libraries in Internet of Things (IoT) era\n",
      "Library Hi Tech\n",
      "\n",
      "\n",
      "FAROOQUE, M.;ZHANG, A.;LIU, Y.\n",
      "FAROOQUE\n",
      "Barriers to circular food supply chains in China\n",
      "Supply Chain Management: An International Journal\n",
      "\n",
      "\n",
      "KITCHIN, R.;CARDULLO, P.;FELICIANTONIO, C. D.\n",
      "KITCHIN\n",
      "Citizenship, Justice, and the Right to the Smart City\n",
      "The Right to the Smart City\n",
      "\n",
      "\n",
      "FAROOQUE, M.;ZHANG, A.;THÜRER, M.;QU, T.;HUISINGH, D.\n",
      "FAROOQUE2\n",
      "Circular supply chain management: A definition and structured literature review\n",
      "Journal of Cleaner Production\n",
      "\n",
      "\n",
      "MA, Y.;PING, K.;WU, C.;CHEN, L.;SHI, H.;CHONG, D.\n",
      "MA\n",
      "Artificial Intelligence powered Internet of Things and smart public service\n",
      "Library Hi Tech\n",
      "\n",
      "\n",
      "LIANG, X.\n",
      "LIANG2\n",
      "Internet of Things and its applications in libraries: a literature review\n",
      "Library Hi Tech\n",
      "\n",
      "\n"
     ]
    },
    {
     "data": {
      "text/plain": "0     None\n1     None\n2     None\n3     None\n4     None\n5     None\n6     None\n7     None\n8     None\n9     None\n10    None\n11    None\n12    None\n13    None\n14    None\n15    None\n16    None\n17    None\n18    None\n19    None\n20    None\ndtype: object"
     },
     "execution_count": 185,
     "metadata": {},
     "output_type": "execute_result"
    }
   ],
   "source": [
    "ciations = []\n",
    "labels = []\n",
    "\n",
    "def create_bibtex(journal,authors,year,link,title):\n",
    "\n",
    "\n",
    "    authors_ = ''\n",
    "    authors = authors.split(';')\n",
    "    for i in range(len(authors)):\n",
    "        author = authors[i].split('.')\n",
    "        for j in range(len(author)):\n",
    "            author[j] = author[j].split()\n",
    "            for k in range(len(author[j])):\n",
    "                author[j][k] = Normalize(author[j][k])\n",
    "        author_ = []\n",
    "        for x in author:\n",
    "            author_ += x\n",
    "        if len(author_)>0:\n",
    "            name = author_[-1]\n",
    "            surnames = author_[:-1]\n",
    "            surnames_ = ''\n",
    "            for i in range(len(surnames)):\n",
    "                surnames[i] = surnames[i][0] + '. '\n",
    "                surnames_ += surnames[i]\n",
    "            surnames_ = surnames_[:-1] + ';'\n",
    "            name += ', '\n",
    "            autor_ = name + surnames_\n",
    "            authors_ += autor_\n",
    "    authors_ = authors_[:-1].upper()\n",
    "    label = authors_.split(',')[0]\n",
    "    if label in labels:\n",
    "        label += '2'\n",
    "    if label in labels:\n",
    "        label = label[:-1] + '3'\n",
    "    print(authors_)\n",
    "    print(label)\n",
    "    print(title)\n",
    "    print(journal)\n",
    "    if 'right' in journal:\n",
    "        print('--------------')\n",
    "    print()\n",
    "    print()\n",
    "\n",
    "\n",
    "    citation = '''@article{{{},\n",
    "    author={{{}}},\n",
    "    title={{{}}},\n",
    "    year={{{}}},\n",
    "    url = {{{}}},\n",
    "    journal = {{{}}},\n",
    "    urlaccessdate={{junho de 2020}}}}\n",
    "    '''.format(label, authors_, title, year,link,journal)\n",
    "    ciations.append(citation)\n",
    "    labels.append(label)\n",
    "\n",
    "\n",
    "df.apply(lambda x: create_bibtex(x.Periodic , x.Authors, x.Year, x.Link, x.Title), axis=1)"
   ],
   "metadata": {
    "collapsed": false,
    "pycharm": {
     "name": "#%%\n"
    }
   }
  },
  {
   "cell_type": "code",
   "execution_count": 184,
   "outputs": [
    {
     "name": "stdout",
     "output_type": "stream",
     "text": [
      "@article{GHAJARGAR,\n",
      "    author={GHAJARGAR, M.;MANGANO, G.;MARCO, A. D.;GIANNANTONIO, R.},\n",
      "    title={Design Thinking Applied to Data Storage Innovation: A Case Study},\n",
      "    year={2017},\n",
      "    url = {https://www.tandfonline.com/doi/abs/10.1080/14606925.2017.1352881},\n",
      "    journal = {The Design Journal},\n",
      "    urlaccessdate={junho de 2020}}\n",
      "    \n",
      "@article{TU,\n",
      "    author={TU, M.;LIM, M. K.;YANG, M.},\n",
      "    title={IoT-based production logistics and supply chain system – Part 1: Modeling IoT-based manufacturing supply chain},\n",
      "    year={2018},\n",
      "    url = {https://www.emerald.com/insight/content/doi/10.1108/IMDS-11-2016-0503/full/html},\n",
      "    journal = {Industrial Management & Data Systems},\n",
      "    urlaccessdate={junho de 2020}}\n",
      "    \n",
      "@article{GRIECO,\n",
      "    author={GRIECO, L. A.;RIZZO, A.;COLUCCI, S.;SICARI, S.;PIRO, G.;PAOLA, D. D.;BOGGIA, G.},\n",
      "    title={IoT-aided robotics applications: Technological implications, target domains and open issues},\n",
      "    year={2014},\n",
      "    url = {https://www.sciencedirect.com/science/article/pii/S0140366414002783},\n",
      "    journal = {Computer Communications},\n",
      "    urlaccessdate={junho de 2020}}\n",
      "    \n",
      "@article{SHIN,\n",
      "    author={SHIN, D.},\n",
      "    title={Conceptualizing and measuring quality of experience of the internet of things: Exploring how quality is perceived by users},\n",
      "    year={2017},\n",
      "    url = {https://www.sciencedirect.com/science/article/pii/S0378720617300952},\n",
      "    journal = {Information & Management},\n",
      "    urlaccessdate={junho de 2020}}\n",
      "    \n",
      "@article{RANE,\n",
      "    author={RANE, S. B.;POTDAR, P. R.;RANE, S.},\n",
      "    title={Development of Project Risk Management framework based on Industry 4.0 technologies},\n",
      "    year={2019},\n",
      "    url = {https://www.emerald.com/insight/content/doi/10.1108/BIJ-03-2019-0123/full/html},\n",
      "    journal = {Benchmarking: An International Journal},\n",
      "    urlaccessdate={junho de 2020}}\n",
      "    \n",
      "@article{TU2,\n",
      "    author={TU, M.;LIM, M. K.;YANG, M.},\n",
      "    title={IoT-based production logistics and supply chain system – Part 2: IoT-based cyber-physical system: a framework and evaluation},\n",
      "    year={2018},\n",
      "    url = {https://www.emerald.com/insight/content/doi/10.1108/IMDS-11-2016-0504/full/html},\n",
      "    journal = {Industrial Management & Data Systems},\n",
      "    urlaccessdate={junho de 2020}}\n",
      "    \n",
      "@article{TU3,\n",
      "    author={TU, M.},\n",
      "    title={An exploratory study of Internet of Things (IoT) adoption intention in logistics and supply chain management: A mixed research approach},\n",
      "    year={2018},\n",
      "    url = {https://www.emerald.com/insight/content/doi/10.1108/IJLM-11-2016-0274/full/html},\n",
      "    journal = {The International Journal of Logistics Management},\n",
      "    urlaccessdate={junho de 2020}}\n",
      "    \n",
      "@article{BURCHARDT,\n",
      "    author={BURCHARDT, C.;MAISCH, B.},\n",
      "    title={Advanced agile approaches to improve engineering activities},\n",
      "    year={2018},\n",
      "    url = {https://www.sciencedirect.com/science/article/pii/S2351978918305948},\n",
      "    journal = {Procedia Manufacturing},\n",
      "    urlaccessdate={junho de 2020}}\n",
      "    \n",
      "@article{LEMINEN,\n",
      "    author={LEMINEN, S.;RAJAHONKA, M.;WENDELIN, R.;WESTERLUND, M.},\n",
      "    title={Industrial internet of things business models in the machine-to-machine context},\n",
      "    year={2020},\n",
      "    url = {https://www.sciencedirect.com/science/article/pii/S0019850118308137},\n",
      "    journal = {Industrial Marketing Management},\n",
      "    urlaccessdate={junho de 2020}}\n",
      "    \n",
      "@article{WÓJCIK,\n",
      "    author={WÓJCIK, M.},\n",
      "    title={How to design innovative information services at the library?},\n",
      "    year={2019},\n",
      "    url = {https://www.emerald.com/insight/content/doi/10.1108/LHT-07-2018-0094/full/html},\n",
      "    journal = {Library Hi Tech},\n",
      "    urlaccessdate={junho de 2020}}\n",
      "    \n",
      "@article{MIRANDA,\n",
      "    author={MIRANDA, J.;PÉREZ-RODRÍGUEZ, R.;BORJA, V.;WRIGHT, P. K.;MOLINA, A.},\n",
      "    title={Sensing, smart and sustainable product development (S3 product) reference framework},\n",
      "    year={2017},\n",
      "    url = {https://www.tandfonline.com/doi/full/10.1080/00207543.2017.1401237},\n",
      "    journal = {International Journal of Production Research},\n",
      "    urlaccessdate={junho de 2020}}\n",
      "    \n",
      "@article{LEMINEN2,\n",
      "    author={LEMINEN, S.;RAJAHONKA, M.;WESTERLUND, M.;WENDELIN, R.},\n",
      "    title={The future of the Internet of Things: toward heterarchical ecosystems and service business models},\n",
      "    year={2018},\n",
      "    url = {https://www.emerald.com/insight/content/doi/10.1108/JBIM-10-2015-0206/full/html},\n",
      "    journal = {Journal of Business & Industrial Marketing},\n",
      "    urlaccessdate={junho de 2020}}\n",
      "    \n",
      "@article{LIN,\n",
      "    author={LIN, J.;SHEN, Z.;MIAO, C.;LIU, S.},\n",
      "    title={Using blockchain to build trusted LoRaWAN sharing server},\n",
      "    year={2017},\n",
      "    url = {https://www.emerald.com/insight/content/doi/10.1108/IJCS-08-2017-0010/full/html},\n",
      "    journal = {International Journal of Crowd Science},\n",
      "    urlaccessdate={junho de 2020}}\n",
      "    \n",
      "@article{HARWOOD,\n",
      "    author={HARWOOD, T.;GARRY, T.;BELK, R.},\n",
      "    title={Design fiction diegetic prototyping: a research framework for visualizing service innovations},\n",
      "    year={2019},\n",
      "    url = {https://www.emerald.com/insight/content/doi/10.1108/JSM-11-2018-0339/full/html},\n",
      "    journal = {Journal of Services Marketing},\n",
      "    urlaccessdate={junho de 2020}}\n",
      "    \n",
      "@article{GHAFFARI,\n",
      "    author={GHAFFARI, K.;LAGZIAN, M.;KAZEMI, M.;MALEKZADEH, G.},\n",
      "    title={A comprehensive framework for Internet of Things development: A grounded theory study of requirements},\n",
      "    year={2019},\n",
      "    url = {https://www.emerald.com/insight/content/doi/10.1108/JEIM-02-2019-0060/full/html},\n",
      "    journal = {Journal of Enterprise Information Management},\n",
      "    urlaccessdate={junho de 2020}}\n",
      "    \n",
      "@article{LIANG,\n",
      "    author={LIANG, X.;CHEN, Y.},\n",
      "    title={Libraries in Internet of Things (IoT) era},\n",
      "    year={2018},\n",
      "    url = {https://www.emerald.com/insight/content/doi/10.1108/LHT-11-2017-0233/full/html},\n",
      "    journal = {Library Hi Tech},\n",
      "    urlaccessdate={junho de 2020}}\n",
      "    \n",
      "@article{FAROOQUE,\n",
      "    author={FAROOQUE, M.;ZHANG, A.;LIU, Y.},\n",
      "    title={Barriers to circular food supply chains in China},\n",
      "    year={2019},\n",
      "    url = {https://www.emerald.com/insight/content/doi/10.1108/SCM-10-2018-0345/full/html},\n",
      "    journal = {Supply Chain Management: An International Journal},\n",
      "    urlaccessdate={junho de 2020}}\n",
      "    \n",
      "@article{KITCHIN,\n",
      "    author={KITCHIN, R.;CARDULLO, P.;FELICIANTONIO, C. D.},\n",
      "    title={Citizenship, Justice, and the Right to the Smart City},\n",
      "    year={2019},\n",
      "    url = {https://www.emerald.com/insight/content/doi/10.1108/978-1-78769-139-120191001/full/html},\n",
      "    journal = {The Right to the Smart City},\n",
      "    urlaccessdate={junho de 2020}}\n",
      "    \n",
      "@article{FAROOQUE2,\n",
      "    author={FAROOQUE, M.;ZHANG, A.;THÜRER, M.;QU, T.;HUISINGH, D.},\n",
      "    title={Circular supply chain management: A definition and structured literature review},\n",
      "    year={2019},\n",
      "    url = {https://www.sciencedirect.com/science/article/pii/S0959652619314003},\n",
      "    journal = {Journal of Cleaner Production},\n",
      "    urlaccessdate={junho de 2020}}\n",
      "    \n",
      "@article{MA,\n",
      "    author={MA, Y.;PING, K.;WU, C.;CHEN, L.;SHI, H.;CHONG, D.},\n",
      "    title={Artificial Intelligence powered Internet of Things and smart public service},\n",
      "    year={2019},\n",
      "    url = {https://www.emerald.com/insight/content/doi/10.1108/LHT-12-2017-0274/full/html},\n",
      "    journal = {Library Hi Tech},\n",
      "    urlaccessdate={junho de 2020}}\n",
      "    \n",
      "@article{LIANG2,\n",
      "    author={LIANG, X.},\n",
      "    title={Internet of Things and its applications in libraries: a literature review},\n",
      "    year={2018},\n",
      "    url = {https://www.emerald.com/insight/content/doi/10.1108/LHT-01-2018-0014/full/html},\n",
      "    journal = {Library Hi Tech},\n",
      "    urlaccessdate={junho de 2020}}\n",
      "    \n"
     ]
    }
   ],
   "source": [
    "for citation in ciations:\n",
    "    print(citation)"
   ],
   "metadata": {
    "collapsed": false,
    "pycharm": {
     "name": "#%%\n"
    }
   }
  },
  {
   "cell_type": "code",
   "execution_count": 144,
   "outputs": [
    {
     "name": "stdout",
     "output_type": "stream",
     "text": [
      "Maliheh, Mengru, L.A., Dong-Hee, Santosh, Mengru2, Mengru3, Carsten, Seppo, Magdalena, Jhonattan, Seppo2, Jun, Tracy, Kimia, Xueling, Muhammad, Rob, Muhammad2, Ying, Xueling2, \n"
     ]
    }
   ],
   "source": [
    "notice = ''\n",
    "for label in labels:\n",
    "    notice += label + ', '\n",
    "\n",
    "print(notice)\n",
    "\n"
   ],
   "metadata": {
    "collapsed": false,
    "pycharm": {
     "name": "#%%\n"
    }
   }
  }
 ],
 "metadata": {
  "kernelspec": {
   "name": "pycharm-ce5be249",
   "language": "python",
   "display_name": "PyCharm (Contas)"
  },
  "language_info": {
   "codemirror_mode": {
    "name": "ipython",
    "version": 2
   },
   "file_extension": ".py",
   "mimetype": "text/x-python",
   "name": "python",
   "nbconvert_exporter": "python",
   "pygments_lexer": "ipython2",
   "version": "2.7.6"
  }
 },
 "nbformat": 4,
 "nbformat_minor": 0
}