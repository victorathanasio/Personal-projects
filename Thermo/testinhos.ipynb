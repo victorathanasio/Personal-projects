{
 "cells": [
  {
   "cell_type": "code",
   "execution_count": 1,
   "outputs": [],
   "source": [
    "from estado import *\n",
    "from sympy import *\n",
    "import copy\n",
    "\n"
   ],
   "metadata": {
    "collapsed": false,
    "pycharm": {
     "name": "#%%\n"
    }
   }
  },
  {
   "cell_type": "code",
   "execution_count": 3,
   "outputs": [],
   "source": [
    "# palta = 3000\n",
    "# talta = 400\n",
    "# pbaixa = 800\n",
    "# cond = 10\n",
    "#\n",
    "# estado_antes_alta = estado('water','gas',palta,talta)\n",
    "# a = turbina(estado_antes_alta,1,pbaixa)\n",
    "#\n",
    "# estado_pos_alta = a[0]\n",
    "#\n",
    "# estado_pre_baixa = estado('water','gas',pbaixa,talta)\n",
    "#\n",
    "# a = turbina(estado_pre_baixa,1,cond)\n",
    "# estado_pos_baixa = a[0]"
   ],
   "metadata": {
    "collapsed": false,
    "pycharm": {
     "name": "#%% Rod\n"
    }
   }
  },
  {
   "cell_type": "code",
   "execution_count": 4,
   "outputs": [],
   "source": [
    "\n",
    "\n",
    "#estado3 = estado_antes_alta\n",
    "#estado4 = estado_pos_alta\n",
    "#estado5 = estado_pre_baixa\n",
    "#estado6 = estado_pos_baixa\n",
    "#estado1 = copy.copy(estado6)\n"
   ],
   "metadata": {
    "collapsed": false,
    "pycharm": {
     "name": "#%%\n"
    }
   }
  },
  {
   "cell_type": "code",
   "execution_count": 5,
   "outputs": [],
   "source": [
    "#estado1.propriedade_dado_titulo('specific_enthalpy', 0)\n",
    "#estado1.propriedade_dado_titulo('specific_entropy', 0)\n"
   ],
   "metadata": {
    "collapsed": false,
    "pycharm": {
     "name": "#%%\n"
    }
   }
  },
  {
   "cell_type": "code",
   "execution_count": 6,
   "outputs": [],
   "source": [
    "#estado1_ = estado('water','liq', estado3._p, 45)\n",
    "#estado2 = busca_estado('specific_entropy', estado1.specific_entropy,'T',estado1_)\n"
   ],
   "metadata": {
    "collapsed": false,
    "pycharm": {
     "name": "#%%\n"
    }
   }
  },
  {
   "cell_type": "code",
   "execution_count": 7,
   "outputs": [],
   "source": [
    "#print(estado6.titulo)\n",
    "#a = (estado3.specific_enthalpy - estado4.specific_enthalpy + estado1.specific_enthalpy - estado2.specific_enthalpy + estado5.specific_enthalpy - estado6.specific_enthalpy)/(estado3.specific_enthalpy - estado2.specific_enthalpy)\n",
    "#print(a)"
   ],
   "metadata": {
    "collapsed": false,
    "pycharm": {
     "name": "#%%\n"
    }
   }
  },
  {
   "cell_type": "code",
   "execution_count": 7,
   "outputs": [],
   "source": [],
   "metadata": {
    "collapsed": false,
    "pycharm": {
     "name": "#%%\n"
    }
   }
  },
  {
   "cell_type": "code",
   "execution_count": 8,
   "outputs": [],
   "source": [
    "# palta = 10000\n",
    "# talta = 520\n",
    "# pcond = 6.5\n",
    "# potliq = 150000\n",
    "#\n",
    "# estado3 = estado('water','gas',palta,talta)\n",
    "# estado4 = turbina(estado3,1,pcond)[0]\n",
    "# estado1 = copy.copy(estado4)\n",
    "# estado1.propriedade_dado_titulo('specific_enthalpy', 0)\n",
    "# estado1.propriedade_dado_titulo('specific_entropy', 0)\n",
    "# estado1.propriedade_dado_titulo('specific_volume', 0)\n",
    "# potturb_spec = estado3.specific_enthalpy - estado4.specific_enthalpy\n",
    "# potbomb_spec = estado1.specific_volume*(estado3._p - estado1.pressure*100)"
   ],
   "metadata": {
    "collapsed": false,
    "pycharm": {
     "name": "#%%belem\n"
    }
   }
  },
  {
   "cell_type": "code",
   "execution_count": 9,
   "outputs": [],
   "source": [
    "# h2 = estado1.specific_enthalpy + potbomb_spec\n",
    "# h3 = estado3.specific_enthalpy\n",
    "# h1 = estado1.specific_enthalpy\n",
    "# h4 = estado4.specific_enthalpy\n",
    "# potliq_spec = -(h4 - h3 + h1 - h2)\n",
    "# m = potliq/potliq_spec\n",
    "# print((h3-h2)*m)\n",
    "# print((h3-h4+h1-h2)/(h3-h2))"
   ],
   "metadata": {
    "collapsed": false,
    "pycharm": {
     "name": "#%%\n"
    }
   }
  },
  {
   "cell_type": "code",
   "execution_count": 10,
   "outputs": [],
   "source": [
    "# temp = 750\n",
    "# palta = 2500\n",
    "# pbaixa = 600\n",
    "# tcond = 50\n",
    "# qout = 10500"
   ],
   "metadata": {
    "collapsed": false,
    "pycharm": {
     "name": "#%%kows\n"
    }
   }
  },
  {
   "cell_type": "code",
   "execution_count": 11,
   "outputs": [],
   "source": [
    "# estado6 = estado('water','saturado',T=tcond)\n",
    "# estado6.propriedade_dado_titulo('specific_enthalpy', 1)\n",
    "# estado6.propriedade_dado_titulo('specific_entropy', 1)\n",
    "#\n",
    "# estado1 = copy.copy(estado6)\n",
    "# estado1.propriedade_dado_titulo('specific_enthalpy', 0)\n",
    "# estado1.propriedade_dado_titulo('specific_entropy', 0)\n",
    "# estado1.propriedade_dado_titulo('specific_volume', 0)\n",
    "#\n",
    "#\n",
    "# pcond = estado6.pressure*100\n",
    "#\n",
    "# estado3 = estado('water','gas',palta,temp)\n",
    "# a = turbina(estado3,1,pbaixa)\n",
    "#\n",
    "# estado4 = a[0]\n",
    "#\n",
    "# estado5_ = estado('water','gas',p=estado4.pressure*100,T=500)\n",
    "#\n",
    "# estado5 = busca_estado('specific_entropy',estado6.specific_entropy,'T',estado5_)"
   ],
   "metadata": {
    "collapsed": false,
    "pycharm": {
     "name": "#%%\n"
    }
   }
  },
  {
   "cell_type": "code",
   "execution_count": 12,
   "outputs": [],
   "source": [
    "# wbomb = estado1.specific_volume * (estado3.pressure*100 - estado1.pressure*100)\n",
    "# h2 = estado1.specific_enthalpy + wbomb\n",
    "# #\n",
    "#"
   ],
   "metadata": {
    "collapsed": false,
    "pycharm": {
     "name": "#%%\n"
    }
   }
  },
  {
   "cell_type": "code",
   "execution_count": 13,
   "outputs": [],
   "source": [
    "# estado5.temperature\n",
    "#\n",
    "#"
   ],
   "metadata": {
    "collapsed": false,
    "pycharm": {
     "name": "#%%\n"
    }
   }
  },
  {
   "cell_type": "code",
   "execution_count": 14,
   "outputs": [],
   "source": [
    "# h4 = estado4.specific_enthalpy\n",
    "# h3 = estado3.specific_enthalpy\n",
    "# h5 = estado5.specific_enthalpy\n",
    "# h6 = estado6.specific_enthalpy\n",
    "# h1 = estado1.specific_enthalpy\n",
    "#"
   ],
   "metadata": {
    "collapsed": false,
    "pycharm": {
     "name": "#%%\n"
    }
   }
  },
  {
   "cell_type": "code",
   "execution_count": 15,
   "outputs": [],
   "source": [
    "# qout_spec = h6 - h1\n",
    "# m = qout/qout_spec\n",
    "#\n",
    "# (h3-h4+h5-h6)*m\n",
    "#\n",
    "#"
   ],
   "metadata": {
    "collapsed": false,
    "pycharm": {
     "name": "#%%\n"
    }
   }
  },
  {
   "cell_type": "code",
   "execution_count": 16,
   "outputs": [],
   "source": [
    "# estado1_ = estado('water','liq', estado3._p, 45)\n",
    "# estado2 = busca_estado('specific_entropy', estado1.specific_entropy,'T',estado1_)\n",
    "# #\n",
    "#"
   ],
   "metadata": {
    "collapsed": false,
    "pycharm": {
     "name": "#%%\n"
    }
   }
  },
  {
   "cell_type": "code",
   "execution_count": 17,
   "outputs": [],
   "source": [
    "# a = (estado3.specific_enthalpy - estado4.specific_enthalpy + estado1.specific_enthalpy - estado2.specific_enthalpy + estado5.specific_enthalpy - estado6.specific_enthalpy)/(estado3.specific_enthalpy - estado2.specific_enthalpy)"
   ],
   "metadata": {
    "collapsed": false,
    "pycharm": {
     "name": "#%%\n"
    }
   }
  },
  {
   "cell_type": "code",
   "execution_count": 18,
   "outputs": [],
   "source": [
    "# potturb = 8700\n",
    "# pmax = 3000\n",
    "# Tmax = 430\n",
    "# pcond = 60\n",
    "# nturb = 0.77\n",
    "#\n",
    "# estado3 = estado('water','gas',pmax,Tmax)\n",
    "#\n",
    "# a = turbina(estado3,nturb,pcond)\n",
    "#\n",
    "# estado4 = a[1]\n",
    "#\n",
    "# estado1 = copy.copy(estado4)\n",
    "# estado1.propriedade_dado_titulo('specific_enthalpy', 0)\n",
    "# estado1.propriedade_dado_titulo('specific_entropy', 0)\n",
    "# estado1.propriedade_dado_titulo('specific_volume', 0)"
   ],
   "metadata": {
    "collapsed": false,
    "pycharm": {
     "name": "#%% Athanasio\n"
    }
   }
  },
  {
   "cell_type": "code",
   "execution_count": 19,
   "outputs": [],
   "source": [
    "# wbomb = estado1.specific_volume * (estado3.pressure*100 - estado1.pressure*100)\n",
    "# h2 = estado1.specific_enthalpy + wbomb"
   ],
   "metadata": {
    "collapsed": false,
    "pycharm": {
     "name": "#%%\n"
    }
   }
  },
  {
   "cell_type": "code",
   "execution_count": 20,
   "outputs": [],
   "source": [
    "# h1 = estado1.specific_enthalpy\n",
    "# h3 = estado3.specific_enthalpy\n",
    "# h4 = estado4.specific_enthalpy"
   ],
   "metadata": {
    "collapsed": false,
    "pycharm": {
     "name": "#%%\n"
    }
   }
  },
  {
   "cell_type": "code",
   "execution_count": 21,
   "outputs": [],
   "source": [
    "# potturb_spec = (h3 - h4)*nturb\n",
    "# m = potturb/potturb_spec"
   ],
   "metadata": {
    "collapsed": false,
    "pycharm": {
     "name": "#%%\n"
    }
   }
  },
  {
   "cell_type": "code",
   "execution_count": 22,
   "outputs": [],
   "source": [
    "# nciclo = ((h3-h4)*nturb+h1-h2)/(h3-h2)"
   ],
   "metadata": {
    "collapsed": false,
    "pycharm": {
     "name": "#%%\n"
    }
   }
  },
  {
   "cell_type": "code",
   "execution_count": 23,
   "outputs": [],
   "source": [
    "# print(m)\n",
    "# print(nciclo)"
   ],
   "metadata": {
    "collapsed": false,
    "pycharm": {
     "name": "#%%\n"
    }
   }
  },
  {
   "cell_type": "code",
   "execution_count": 34,
   "outputs": [],
   "source": [
    "kgs = 18\n",
    "palta = 2000\n",
    "talta = 580\n",
    "tcond = 37\n",
    "pbaixa = 300\n",
    "tbaixa = 390\n",
    "\n",
    "estado3 = estado('water','gas',palta,talta)\n",
    "estado4 = turbina(estado3,1,pbaixa)[0]\n",
    "\n",
    "estado5 = estado('water', 'gas', pbaixa, tbaixa)\n",
    "\n",
    "estado6_ = estado('water','saturado',T=tcond)\n",
    "\n",
    "estado6 = copy.copy(estado6_)\n",
    "estado6.titulo_dada_propriedade('specific_entropy', estado5.specific_entropy)\n",
    "estado6.propriedade_dado_titulo('specific_enthalpy',estado6.titulo)\n",
    "\n",
    "estado1 = copy.copy(estado6_)\n",
    "estado1.propriedade_dado_titulo('specific_entropy',0)\n",
    "estado1.propriedade_dado_titulo('specific_enthalpy',0)\n",
    "\n",
    "estado2_ = estado('water', 'liq', palta, 50)\n",
    "estado2 = busca_estado('specific_entropy',estado1.specific_entropy,'T',estado2_)"
   ],
   "metadata": {
    "collapsed": false,
    "pycharm": {
     "name": "#%%Montas\n"
    }
   }
  },
  {
   "cell_type": "code",
   "execution_count": 35,
   "outputs": [],
   "source": [
    "h4 = estado4.specific_enthalpy\n",
    "h3 = estado3.specific_enthalpy\n",
    "h5 = estado5.specific_enthalpy\n",
    "h6 = estado6.specific_enthalpy\n",
    "h1 = estado1.specific_enthalpy\n",
    "h2 = estado2.specific_enthalpy"
   ],
   "metadata": {
    "collapsed": false,
    "pycharm": {
     "name": "#%%\n"
    }
   }
  },
  {
   "cell_type": "code",
   "execution_count": 36,
   "outputs": [],
   "source": [
    "efic = (h3 - h4 + h5 - h6 + h1 - h2)/(h3 - h2 + h5 - h4)"
   ],
   "metadata": {
    "collapsed": false,
    "pycharm": {
     "name": "#%%\n"
    }
   }
  },
  {
   "cell_type": "code",
   "execution_count": 37,
   "outputs": [],
   "source": [
    "trab_total = (h3 - h2 + h5 - h4)*kgs"
   ],
   "metadata": {
    "collapsed": false,
    "pycharm": {
     "name": "#%%\n"
    }
   }
  },
  {
   "cell_type": "code",
   "execution_count": 38,
   "outputs": [
    {
     "name": "stdout",
     "output_type": "stream",
     "text": [
      "0.3742314885413028\n",
      "66653.75048281379\n"
     ]
    }
   ],
   "source": [
    "print(efic)\n",
    "print(trab_total)"
   ],
   "metadata": {
    "collapsed": false,
    "pycharm": {
     "name": "#%%\n"
    }
   }
  }
 ],
 "metadata": {
  "kernelspec": {
   "name": "pycharm-ce5be249",
   "language": "python",
   "display_name": "PyCharm (Contas)"
  },
  "language_info": {
   "codemirror_mode": {
    "name": "ipython",
    "version": 2
   },
   "file_extension": ".py",
   "mimetype": "text/x-python",
   "name": "python",
   "nbconvert_exporter": "python",
   "pygments_lexer": "ipython2",
   "version": "2.7.6"
  }
 },
 "nbformat": 4,
 "nbformat_minor": 0
}