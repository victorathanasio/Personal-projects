{
 "cells": [
  {
   "cell_type": "code",
   "execution_count": 1,
   "outputs": [],
   "source": [
    "from estado import *\n",
    "from sympy import *\n",
    "import copy\n"
   ],
   "metadata": {
    "collapsed": false,
    "pycharm": {
     "name": "#%%\n"
    }
   }
  },
  {
   "cell_type": "code",
   "execution_count": 2,
   "outputs": [],
   "source": [
    "import numpy as np\n",
    "from sympy import *\n",
    "import copy"
   ],
   "metadata": {
    "collapsed": false,
    "pycharm": {
     "name": "#%%\n"
    }
   }
  },
  {
   "cell_type": "code",
   "execution_count": 3,
   "outputs": [],
   "source": [
    "# pot = 120000\n",
    "# Tmin = 305 #kelvin\n",
    "# Tmax = 1500 #kelvin\n",
    "# razao_compr = 15/1\n",
    "# Pmin = 100\n",
    "# k = 1.4 #constante ar\n",
    "# Cp = 1.004\n",
    "#\n",
    "#\n",
    "#\n",
    "#\n",
    "#\n",
    "# T1 = Tmin\n",
    "# T3 = Tmax\n",
    "# P1 = Pmin\n",
    "# P2 = P1*razao_compr\n",
    "# P3 = P2\n",
    "# P4 = P1\n",
    "#\n",
    "# T4 = T3*(P4/P3)**((k-1)/k)\n",
    "#\n",
    "# T2 = T1*(P2/P1)**((k-1)/k)\n",
    "#\n",
    "# DeltaH43 = Cp*(T4-T3)\n",
    "#\n",
    "# DeltaH21 = Cp*(T2-T1)\n",
    "#\n",
    "#\n",
    "# mponto = -pot/(DeltaH43+DeltaH21)\n",
    "#\n",
    "# Pot_turb = -mponto*DeltaH43\n",
    "#\n",
    "# Efic = 1 - 1/(razao_compr**((k-1)/k))\n",
    "#\n",
    "# print(Pot_turb/1000, 'Pot turb')\n",
    "# print(Efic*100, 'Eficiencia')\n",
    "#\n",
    "#"
   ],
   "metadata": {
    "collapsed": false,
    "pycharm": {
     "name": "#%% Atha\n"
    }
   }
  },
  {
   "cell_type": "code",
   "execution_count": 3,
   "outputs": [],
   "source": [],
   "metadata": {
    "collapsed": false,
    "pycharm": {
     "name": "#%%\n"
    }
   }
  },
  {
   "cell_type": "code",
   "execution_count": 4,
   "outputs": [],
   "source": [
    "# pot = 15000\n",
    "# Tmin = 27 + 273.15 #kelvin\n",
    "# # Tmax = 1500 #kelvin\n",
    "# Calor = 950\n",
    "# razao_compr = 14/1\n",
    "# Pmin = 100\n",
    "#\n",
    "# k = 1.4 #constante ar\n",
    "# Cp = 1.004\n",
    "#\n",
    "# T1 = Tmin\n",
    "# # T3 = Tmax\n",
    "# P1 = Pmin\n",
    "# P2 = P1*razao_compr\n",
    "# P3 = P2\n",
    "# P4 = P1\n",
    "# R = 0.287\n",
    "# #\n",
    "# arr = np.array([['300', str(T1), '320'],\n",
    "#             ['300.47','','320.58']])\n",
    "#\n",
    "# h1 = interpolacao(arr)\n",
    "#\n",
    "#\n",
    "# arr = np.array([['300', str(T1), '320'],\n",
    "#             ['6.86926','','6.93413']])\n",
    "#\n",
    "# s1 = interpolacao(arr)\n",
    "#\n",
    "# s2 = s1 + R * log(razao_compr)\n",
    "#\n",
    "# arr = np.array([['7.61090', str(s2), '7.64448'],\n",
    "#             ['620','','640']])\n",
    "#\n",
    "# T2 = interpolacao(arr)\n",
    "#\n",
    "# arr = np.array([['628.38', '', '649.53'],\n",
    "#             ['620',str(T2),'640']])\n",
    "#\n",
    "# h2 = interpolacao(arr)\n",
    "#\n",
    "#\n",
    "# h3 = h2 + Calor\n",
    "#\n",
    "# arr = np.array([['1450', '', '1500'],\n",
    "#             ['1575.40',str(h3),'1635.80']])\n",
    "#\n",
    "# T3 = interpolacao(arr)\n",
    "#\n",
    "# arr = np.array([['1450', str(T3), '1500'],\n",
    "#             ['8.57111','','8.61208']])\n",
    "#\n",
    "# s3 = interpolacao(arr)\n",
    "#\n",
    "# s4 = s3 + R * log(1/razao_compr)\n",
    "#\n",
    "# arr = np.array([['7.80008', str(s4), '7.82905'],\n",
    "#             ['756.73','','778.46']])\n",
    "#\n",
    "# h4 = interpolacao(arr)\n",
    "#\n",
    "# mponto = -pot/(h4 - h3 + h2 - h1)\n",
    "#\n",
    "#\n",
    "# Pot_turb = -mponto*DeltaH43\n",
    "#\n",
    "# Efic = 1 - 1/(razao_compr**((k-1)/k))\n",
    "#\n",
    "# print(mponto, 'Vaz mass')\n",
    "# print(T3 , 'Tmax')\n",
    "#"
   ],
   "metadata": {
    "collapsed": false,
    "pycharm": {
     "name": "#%% Borba\n"
    }
   }
  },
  {
   "cell_type": "code",
   "execution_count": 5,
   "outputs": [],
   "source": [
    "# s4\n"
   ],
   "metadata": {
    "collapsed": false,
    "pycharm": {
     "name": "#%%\n"
    }
   }
  },
  {
   "cell_type": "code",
   "execution_count": 6,
   "outputs": [],
   "source": [
    "# Tfria = -10\n",
    "# Tamb = 25\n",
    "# material =\n",
    "#\n",
    "# _estado34 = estado('nh3','saturado',T=Tamb)\n",
    "# _estado34.propriedade_dado_titulo(1)\n",
    "# estado3 = copy.copy(_estado34)\n",
    "# _estado34.propriedade_dado_titulo(0)\n",
    "# estado4 = copy.copy(_estado34)\n",
    "#\n",
    "#\n",
    "# _estado12 = estado('nh3','saturado',T=Tfria)\n",
    "# _estado12.titulo_dada_propriedade('specific_entropy',estado4.specific_entropy)\n",
    "#\n",
    "#\n",
    "# estado1 = copy.copy(_estado12)\n",
    "# _estado12.titulo_dada_propriedade('specific_entropy',estado3.specific_entropy)\n",
    "# estado2 = copy.copy(_estado12)"
   ],
   "metadata": {
    "collapsed": false,
    "pycharm": {
     "name": "#%% Lebas\n"
    }
   }
  },
  {
   "cell_type": "code",
   "execution_count": 18,
   "outputs": [
    {
     "data": {
      "text/plain": "1.248"
     },
     "execution_count": 18,
     "metadata": {},
     "output_type": "execute_result"
    }
   ],
   "source": [
    "\n",
    "\n",
    "\n",
    "\n"
   ],
   "metadata": {
    "collapsed": false,
    "pycharm": {
     "name": "#%%\n"
    }
   }
  }
 ],
 "metadata": {
  "kernelspec": {
   "name": "pycharm-ce5be249",
   "language": "python",
   "display_name": "PyCharm (Contas)"
  },
  "language_info": {
   "codemirror_mode": {
    "name": "ipython",
    "version": 2
   },
   "file_extension": ".py",
   "mimetype": "text/x-python",
   "name": "python",
   "nbconvert_exporter": "python",
   "pygments_lexer": "ipython2",
   "version": "2.7.6"
  }
 },
 "nbformat": 4,
 "nbformat_minor": 0
}