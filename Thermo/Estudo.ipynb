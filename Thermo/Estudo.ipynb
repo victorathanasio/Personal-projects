{
 "cells": [
  {
   "cell_type": "code",
   "execution_count": 1,
   "outputs": [],
   "source": [
    "from estado import *\n",
    "from sympy import *\n",
    "init_printing(use_unicode=True)\n",
    "import numpy as np"
   ],
   "metadata": {
    "collapsed": false,
    "pycharm": {
     "name": "#%%\n"
    }
   }
  },
  {
   "cell_type": "code",
   "execution_count": 1,
   "outputs": [],
   "source": [],
   "metadata": {
    "collapsed": false,
    "pycharm": {
     "name": "#%%\n"
    }
   }
  },
  {
   "cell_type": "code",
   "execution_count": 2,
   "outputs": [
    {
     "name": "stdout",
     "output_type": "stream",
     "text": [
      "<class 'estado.estado'>\n"
     ]
    }
   ],
   "source": [
    "\n",
    "\n",
    "estado_inicial_de_busca = estado('water','gas',200,120.46850585938)\n",
    "estado_finalB = busca_estado('specific_enthalpy',2802.88935988,'T',estado_inicial_de_busca, precision=0.9)"
   ],
   "metadata": {
    "collapsed": false,
    "pycharm": {
     "name": "#%%\n"
    }
   }
  },
  {
   "cell_type": "code",
   "execution_count": 3,
   "outputs": [
    {
     "name": "stdout",
     "output_type": "stream",
     "text": [
      "Estado = overheated steam, tabela: gas, Pressão = 2.0 Kpa, Temperatura = 166.48413085938 Celsius\n"
     ]
    }
   ],
   "source": [
    "print(estado_finalB)\n"
   ],
   "metadata": {
    "collapsed": false,
    "pycharm": {
     "name": "#%%\n"
    }
   }
  },
  {
   "cell_type": "code",
   "execution_count": 4,
   "outputs": [
    {
     "name": "stdout",
     "output_type": "stream",
     "text": [
      "Ex1\n",
      "resps A\n",
      "massa no reservatório:  2.9555 Kg\n",
      "trabalho realizado pela turbina:  386.0864 Kj\n",
      "Sger:  0.8129 kj\n",
      "<class 'estado.estado'>\n",
      "\n",
      "resps B\n",
      "massa no reservatorio:  2.6317 kg\n",
      "T_final:  477.5065 Celsius\n",
      "SgerB:  1.3458 kj\n",
      "\n",
      "resps C\n",
      "trab:  900.0000 kj\n",
      "massa no reservatorio:  3.3990 kg\n",
      "T_final:  320.0000 Celsius\n",
      "SgerB:  0.0000 kj\n"
     ]
    }
   ],
   "source": [
    "#vapor 15 bar e 320 C\n",
    "#passa turbina\n",
    "#vai pro volume de 0.6m3\n",
    "#valvula aberta até reservatório tenha vapor a 15 bar e 400C\n",
    "print('Ex1')\n",
    "#itema\n",
    "#massa que entrou, W realizado pela bomba, e entropia gerada\n",
    "p_i = 1500\n",
    "p_fA = 1500\n",
    "t_i = 320\n",
    "t_fA = 400\n",
    "estado_inicial = estado('water','gas',p_i, t_i)\n",
    "estado_finalA = estado('water','gas',p_fA, t_fA)\n",
    "\n",
    "vol = 0.6 #m3\n",
    "densidade_final = estado_finalA.density\n",
    "massa_finalA = densidade_final*vol\n",
    "print('resps A')\n",
    "print('massa no reservatório: ', \"{:.4f}\".format(massa_finalA), 'Kg')\n",
    "\n",
    "\n",
    "trab = massa_finalA*(estado_inicial.specific_enthalpy - estado_finalA.specific_inner_energy)\n",
    "\n",
    "print('trabalho realizado pela turbina: ', \"{:.4f}\".format(trab), 'Kj')\n",
    "\n",
    "Sger = (-1)*massa_finalA*(estado_inicial.specific_entropy - estado_finalA.specific_entropy)\n",
    "\n",
    "print('Sger: ', \"{:.4f}\".format(Sger), 'kj')\n",
    "\n",
    "\n",
    "#A massa que entra no reservatório, a temperatura final no tanque e a entropia gerada durante o processo\n",
    "#de enchimento (pressão final no tanque é 15 bar), quando não há trabalho realizado pela turbina;\n",
    "u_final = estado_inicial.specific_enthalpy\n",
    "estado_inicial_de_busca = estado('water','gas',p_i,t_i)\n",
    "estado_finalB = busca_estado('specific_inner_energy',u_final,'T',estado_inicial_de_busca)\n",
    "\n",
    "print()\n",
    "print('resps B')\n",
    "massa_finalB = estado_finalB.density*vol\n",
    "t_fB = estado_finalB.temperature\n",
    "SgerB = (-1)*massa_finalB*(estado_inicial.specific_entropy - estado_finalB.specific_entropy)\n",
    "\n",
    "print('massa no reservatorio: ', \"{:.4f}\".format(massa_finalB), 'kg')\n",
    "print('T_final: ', \"{:.4f}\".format(t_fB), 'Celsius')\n",
    "print('SgerB: ', \"{:.4f}\".format(SgerB), 'kj')\n",
    "\n",
    "\n",
    "#O máximo trabalho que pode ser realizado pela turbina (pressão final no tanque é 15 bar). Determine para\n",
    "#esse cenário a massa que entra no reservatório, a temperatura final no tanque e a entropia gerada durante\n",
    "#o processo de enchimento\n",
    "print()\n",
    "print('resps C')\n",
    "p_fC = 1500\n",
    "SgerC = 0\n",
    "estado_finalC = estado_inicial\n",
    "massa_finalC = estado_finalC.density*vol\n",
    "t_fC = estado_finalC.temperature\n",
    "trab = massa_finalC*(estado_inicial.specific_enthalpy - estado_finalC.specific_inner_energy)\n",
    "\n",
    "print('trab: ',\"{:.4f}\".format(trab),'kj')\n",
    "print('massa no reservatorio: ', \"{:.4f}\".format(massa_finalC), 'kg')\n",
    "print('T_final: ', \"{:.4f}\".format(t_fC), 'Celsius')\n",
    "print('SgerB: ', \"{:.4f}\".format(SgerC), 'kj')\n",
    "\n",
    "\n",
    "#Analise e justifique os resultados obtidos em a, b e c, em termos dos valores da massa que entra no tanque,\n",
    "#temperatura final no tanque, trabalho realizado e entropia gerada.\n",
    "\n",
    "#tomar item A como base"
   ],
   "metadata": {
    "collapsed": false,
    "pycharm": {
     "name": "#%%EX1\n"
    }
   }
  },
  {
   "cell_type": "code",
   "execution_count": null,
   "outputs": [],
   "source": [
    "#Um reservatório rígido e adiabático contém ar, que pode ser tratado como gás perfeito.\n",
    "#Uma membrana mantém o ar separado em duas massas iguais, à mesma temperatura T1 e às pressões P1 e P2,\n",
    "#sendo P1 > P2. A membrana se rompe permitindo a mistura das massas. Um aluno de Termo diz que espera que\n",
    "#a pressão final seja maior que P1. Um outro aluno diz que a pressão final, Pf, necessariamente terá que ser menor\n",
    "#que raiz quadrada do produto das duas pressões iniciais. Verifique as respostas dos dois alunos.\n",
    "\n",
    "#Resp discord 7:12 pm, lui mandou\n",
    "Cp0 = symbols('Cp')\n",
    "R = symbols('R')\n",
    "Tf, T1, T2, T = symbols('Tf T1 T2 T')\n",
    "Pf, P1, P2 = symbols('Pf P1 P2')\n",
    "\n",
    "DeltaS1 = Cp0*log(T/T) - R*log(Pf/P1)\n",
    "DeltaS2 = Cp0*log(T/T) - R*log(Pf/P2)\n",
    "\n",
    "f = DeltaS1 + DeltaS2\n",
    "solve(f,Pf, domain=S.Reals)"
   ],
   "metadata": {
    "collapsed": false,
    "pycharm": {
     "name": "#%%Ex2\n"
    }
   }
  },
  {
   "cell_type": "code",
   "execution_count": null,
   "outputs": [],
   "source": [
    "print('Ex 3')\n",
    "n_usp = str(1)\n",
    "X = int(n_usp[-1])\n",
    "print('Fim do numero usp: ', X)\n",
    "Vgasi = 0.15 #m3\n",
    "Vaguai = 0.15 #me\n",
    "tgasi = 50 #Celsius\n",
    "taguai = 70 #celsius\n",
    "tituloi = (10 + X)/100\n",
    "t_frio = 25 #celsius\n",
    "paguaf = 120 + 10*X #kpa\n",
    "# processo de compressão do gás é adiabático e reversível\n",
    "#que a hipótese de gás perfeito é\n",
    "#válida, que os calores específicos podem ser considerados constantes\n",
    "patm = 100 #kpa\n",
    "\n",
    "#(a) A massa de água; (b) A massa de gás; (c) O título (se for saturado) ou a temperatura (se não for\n",
    "#saturado) do estado final da água; (d) A temperatura final do gás; (d) O trabalho de compressão do gás; (e) O\n",
    "#trabalho líquido realizado pela água; (f) A quantidade de calor transferida à água; (g) A quantidade de calor\n",
    "#extraída do ambiente; (h) O trabalho realizado pela bomba de calor.\n",
    "\n",
    "estado_inicial_agua = estado('water','saturado',T=taguai)\n",
    "vvapi = 1/estado_inicial_agua.density_steam\n",
    "vagi = 1/estado_inicial_agua.density_water\n",
    "\n",
    "vtot = vvapi*tituloi + vagi*(1-tituloi)\n",
    "denstot = 1/vtot\n",
    "massa_de_agua = denstot*Vaguai\n",
    "print('A. massa de agua: ',\"{:.4f}\".format(massa_de_agua),'Kg')\n",
    "\n",
    "R = 0.2968\n",
    "P = estado_inicial_agua.pressure*100\n",
    "pgasi = P\n",
    "V = Vgasi\n",
    "T = tgasi + 273.15\n",
    "massa_de_gas = (P*V)/(R*T)\n",
    "\n",
    "print('B. massa de gas: ', \"{:.4f}\".format(massa_de_gas),'Kg')\n",
    "\n",
    "densidade_final_agua = massa_de_agua/(Vgasi*2)\n",
    "estado_finalAgua_se_sat = estado('water','saturado',p=paguaf)\n",
    "\n",
    "sat = False\n",
    "if estado_finalAgua_se_sat.density_steam < densidade_final_agua and densidade_final_agua < estado_finalAgua_se_sat.density_water:\n",
    "    print('Fica saturado msm')\n",
    "    estado_finalAgua = estado_finalAgua_se_sat\n",
    "    vliq = 1/estado_finalAgua_se_sat.density_water\n",
    "    vvapor = 1/estado_finalAgua_se_sat.density_steam\n",
    "    meuv = 1/densidade_final_agua\n",
    "    titulof =  (meuv - vliq)/(vvapor - vliq)\n",
    "    print('C. Como é saturado, aqui está o titulo: ', \"{:.4f}\".format(titulof))\n",
    "    sat = True\n",
    "else:\n",
    "    estado_inicial_de_busca = estado('water','gas',paguaf,300)\n",
    "    estado_finalAgua = busca_estado('density',densidade_final_agua,'T', estado_inicial_de_busca, proporcionalidade=-1)\n",
    "    print('C. Como não é saturado, aqui está a temp: ', estado_finalAgua.temperature, 'Celsius')\n",
    "Cp0 = 1.041\n",
    "Cv0 = 0.744\n",
    "k =  1.4\n",
    "DeltaS = 0 #sem entropia, adiabatico irreversilvel\n",
    "T2 = symbols('T2')\n",
    "f = Cp0*log((T2+273.15)/(tgasi+273.15)) -R*log(patm/pgasi)\n",
    "T2gas = solveset(f).args[0]\n",
    "T_final_gas = T2gas\n",
    "print('D1. Temperatura final do gas', \"{:.4f}\".format(T2gas), 'Celsius')\n",
    "\n",
    "Trab_gas = -1*massa_de_gas*Cv0*(T2gas-tgasi)\n",
    "\n",
    "print('D2. Trabalho: ', \"{:.4f}\".format(Trab_gas), 'Kj')\n",
    "VF = massa_de_gas*R*(T2gas+ 273.15)/patm\n",
    "\n",
    "Trab_conj = patm*VF\n",
    "Trab_agua = Trab_conj - Trab_gas\n",
    "print('E. Trabalho liq realizado pela agua: ', \"{:.4f}\".format(Trab_agua), 'Kj')\n",
    "\n",
    "Uaguai =  estado_inicial_agua.specific_inner_energy_v*tituloi + estado_inicial_agua.specific_inner_energy_water*(1-tituloi)\n",
    "\n",
    "if sat:\n",
    "    Uaguaf = estado_finalAgua.specific_inner_energy_steam*titulof + estado_finalAgua.specific_inner_energy_water*(1-titulof)\n",
    "else:\n",
    "    Uaguaf = estado_finalAgua.specific_inner_energy\n",
    "\n",
    "deltaU = Uaguaf - Uaguai\n",
    "Qh = deltaU*massa_de_agua + Trab_agua\n",
    "print('F. Calor que vai para agua: ', \"{:.4f}\".format(Qh) , 'KJ')\n",
    "\n",
    "\n",
    "Saguai =  estado_inicial_agua.specific_entropy_steam*tituloi + estado_inicial_agua.specific_entropy_water*(1-tituloi)\n",
    "\n",
    "if sat:\n",
    "    Saguaf = estado_finalAgua.specific_entropy_steam*titulof + estado_finalAgua.specific_entropy_water*(1-titulof)\n",
    "else:\n",
    "    Saguaf = estado_finalAgua.specific_entropy\n",
    "\n",
    "deltaS = Saguaf - Saguai\n",
    "Ql = massa_de_agua*deltaS*(t_frio+273.15)\n",
    "print('G. Calor extraído do ambiente (Ql): ', \"{:.4f}\".format(Ql), 'KJ')\n",
    "Trab_bomba = Qh - Ql\n",
    "print('H. Trabalho executado pela bomba: ', \"{:.4f}\".format(Trab_bomba), 'KJ')\n",
    "print()\n",
    "print()"
   ],
   "metadata": {
    "collapsed": false,
    "pycharm": {
     "name": "#%%EX3\n"
    }
   }
  },
  {
   "cell_type": "code",
   "execution_count": null,
   "outputs": [],
   "source": [
    "print('Ex4')\n",
    "#AR\n",
    "T1 = 20 + 273.15#Kelvin\n",
    "P1 = 100 #kpa\n",
    "mponto = 0.025 #kg/seg\n",
    "D1 = 0.01 #m\n",
    "Wponto = -3.5 #Kw\n",
    "T2 = 50 + 273.15#Kelvin\n",
    "P2 = 650 #kpa\n",
    "#ar sai sem e cinética\n",
    "#Contudo, a energia cinética do ar que entra no compressor não pode ser desprezada\n",
    "Vt = 1.5 #m3\n",
    "Pi = 100 #kpa\n",
    "Tt = 25 + 273.15#Kelvin estável, troca calor\n",
    "Cv = 0.717\n",
    "Cp = 1.005\n",
    "R = Cp - Cv\n",
    "K = Cp/Cv\n",
    "Tamb = 25 + 273.15#Kelvin\n",
    "A_entrada = np.pi *(D1**2)/4\n",
    "dens1 = P1/(R*T1)\n",
    "Vol_ponto = mponto / dens1\n",
    "Vel_entrada = Vol_ponto/A_entrada\n",
    "#a) a taxa de transferência de calor para o compressor;\n",
    "\n",
    "Qponto =  - Wponto + mponto*(Cp*(T1-T2)) + (mponto*Vel_entrada**2/2)/1000\n",
    "Qponto *= -1\n",
    "print('A. Q ponto compressor: ', \"{:.4f}\".format(Qponto), 'KW/Kg')\n",
    "\n",
    "\n",
    "#b) a pressão do ar no tanque após 200 segundos de operação;\n",
    "\n",
    "mitanque = (Pi*Vt)/(R*Tt)\n",
    "mentra = 200*mponto\n",
    "mfinalt = mitanque + mentra\n",
    "Pfinalt = (mfinalt*R*Tt)/Vt\n",
    "\n",
    "print('B. Pressão apos 200 seg: ', \"{:.4f}\".format(Pfinalt), 'Kpa')\n",
    "\n",
    "#c) a transferência de calor total do tanque para o ambiente durante os primeiros 200 s de funcionamento;\n",
    "Qb = Qponto*200\n",
    "Qt = symbols('Qt')\n",
    "Eientr = Cp * T1 + (Vel_entrada**2/2)/1000\n",
    "\n",
    "Wb = Wponto*200\n",
    "DeltaEe = mentra * Cv * Tt\n",
    "DeltaEd = Qb + Qt - Wb + mentra*(Eientr)\n",
    "Eq = DeltaEd - DeltaEe\n",
    "Qt = solve(Eq,Qt)[0]\n",
    "\n",
    "print('C. A transferencia de calor no tanque é: ', \"{:.4f}\".format(Qt), 'KJ')\n",
    "\n",
    "#d) a entropia gerada na válvula e tanque durante os primeiros 200 s de funcionamento;\n",
    "\n",
    "\n",
    "Sger = symbols('Sger')\n",
    "\n",
    "Santesb = 0 #interpolado pela tabela\n",
    "Sdpsb = Santesb + Cp*log(T2/T1) -R* log(P2/P1)\n",
    "Stcheio = Santesb + Cp*log(Tt/T1) -R* log(Pfinalt/P1)\n",
    "Stvazio = Santesb + Cp*log(Tt/T1) -R* log(Pi/P1)\n",
    "\n",
    "DeltaSe = Stcheio*mfinalt - Stvazio*mitanque\n",
    "Se = Sdpsb\n",
    "DeltaSd = Qt/Tt + mentra*Se + Sger\n",
    "\n",
    "Eq = DeltaSd - DeltaSe\n",
    "Sger = solve(Eq, Sger)[0]\n",
    "print('D. Entropia gerada dps do compressor em 200s: ', \"{:.4f}\".format(Sger), 'Kj')\n",
    "\n",
    "SgerB = Qponto*200/Tamb + mentra*Santesb - mentra*Sdpsb\n",
    "SgerB *= -1\n",
    "\n",
    "# Sgerpontob = Qponto/Tamb + mponto*Santesb - mponto*Sdpsb\n",
    "# Sgerpontob *= -1\n",
    "# SgerB = Sgerpontob*200\n",
    "\n",
    "SLiq = Sger + SgerB\n",
    "\n",
    "print('E. Entropia liq gerada: ', \"{:.4f}\".format(SLiq), 'KJ')"
   ],
   "metadata": {
    "collapsed": false,
    "pycharm": {
     "name": "#%%EX4\n"
    }
   }
  },
  {
   "cell_type": "code",
   "execution_count": 459,
   "outputs": [],
   "source": [],
   "metadata": {
    "collapsed": false,
    "pycharm": {
     "name": "#%%\n"
    }
   }
  }
 ],
 "metadata": {
  "kernelspec": {
   "name": "pycharm-ce5be249",
   "language": "python",
   "display_name": "PyCharm (Contas)"
  },
  "language_info": {
   "codemirror_mode": {
    "name": "ipython",
    "version": 2
   },
   "file_extension": ".py",
   "mimetype": "text/x-python",
   "name": "python",
   "nbconvert_exporter": "python",
   "pygments_lexer": "ipython2",
   "version": "2.7.6"
  }
 },
 "nbformat": 4,
 "nbformat_minor": 0
}