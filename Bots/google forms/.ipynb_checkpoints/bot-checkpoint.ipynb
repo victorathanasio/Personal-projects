{
 "cells": [
  {
   "cell_type": "code",
   "execution_count": 1,
   "metadata": {},
   "outputs": [
    {
     "name": "stdout",
     "output_type": "stream",
     "text": [
      "contagem inicial:  [3294, 43835, 1232]\n"
     ]
    }
   ],
   "source": [
    "import threading\n",
    "from selenium import webdriver\n",
    "from selenium.webdriver.chrome.options import Options\n",
    "import time\n",
    "import random\n",
    "import os\n",
    "import sys\n",
    "import json\n",
    "\n",
    "global start_time\n",
    "start_time = time.time()\n",
    "\n",
    "global link\n",
    "link = 'https://docs.google.com/forms/d/e/1FAIpQLSfTQkWcFsTHvsda8RCoFnyyrxbC03W6Et5DbC971K3zT2X71Q/viewform'\n",
    "\n",
    "\n",
    "\n",
    "global contador0\n",
    "\n",
    "global contador1\n",
    "\n",
    "global contador2\n",
    "\n",
    "global dict_votos\n",
    "\n",
    "global sleep\n",
    "\n",
    "global fail_safe\n",
    "fail_safe = 0\n",
    "\n",
    "sleep = 0\n",
    "\n",
    "dict_votos = {\n",
    "    0: 'Arthur',\n",
    "    1: 'Malu',\n",
    "    2: 'Sabrina'\n",
    "}\n",
    "\n",
    "global kill\n",
    "kill = False\n",
    "\n",
    "if not os.path.exists('log.txt'):\n",
    "    os.mkdir('log.txt')\n",
    "    contador0 = 0\n",
    "    contador1 = 0\n",
    "    contador2 = 0\n",
    "else:\n",
    "    f= open(\"log.txt\",\"r\")\n",
    "    a = f.readlines()\n",
    "    contador0 = int(a[0])\n",
    "    contador1 = int(a[1])\n",
    "    contador2 = int(a[2])\n",
    "    f.close()\n",
    "print('contagem inicial: ', [contador0, contador1, contador2])"
   ]
  },
  {
   "cell_type": "code",
   "execution_count": 2,
   "metadata": {
    "pycharm": {
     "name": "#%%\n"
    }
   },
   "outputs": [],
   "source": [
    "class Votador(threading.Thread):\n",
    "    def __init__(self,link,Id):\n",
    "        threading.Thread.__init__(self)\n",
    "        \n",
    "        options = Options()\n",
    "        \n",
    "        options.headless = True\n",
    "        self.browser = webdriver.Chrome('chromedriver.exe', options = options)\n",
    "        self.browser.get('http://www.google.com')\n",
    "        self.link = link\n",
    "        self.Id = Id\n",
    "        self.contador = 0\n",
    "        self.get_form()\n",
    "        self.target = dict_votos[self.Id]\n",
    "        \n",
    "\n",
    "    def get_form(self):\n",
    "        self.browser.get(self.link)\n",
    "\n",
    "    def vote(self):\n",
    "        #element = WebDriverWait(self.browser, 10).until(EC.presence_of_element_located((By.CLASS_NAME,'exportOuterCircle')))\n",
    "        \n",
    "        try:\n",
    "            options = self.browser.find_elements_by_class_name('exportOuterCircle')\n",
    "            div = self.browser.find_element_by_class_name('freebirdFormviewerViewItemsItemItem')\n",
    "            positions = div.text.split()[-3:]\n",
    "            \n",
    "            target = positions.index(self.target)\n",
    "            \n",
    "            options[target].click()\n",
    "        except:\n",
    "            print('fail_safe: vote')\n",
    "            self.fail_safe()\n",
    "\n",
    "\n",
    "    def confirm(self,number):\n",
    "        try:\n",
    "            confirm_btn = self.browser.find_elements_by_class_name('quantumWizButtonPaperbuttonLabel ')\n",
    "            confirm_btn[number].click()\n",
    "            \n",
    "\n",
    "        except:\n",
    "            print('fail_safe: confirm', number)\n",
    "            self.fail_safe()\n",
    "        \n",
    "    def capitcha(self):\n",
    "        #element = WebDriverWait(self.browser, 10).until(EC.presence_of_element_located((By.CLASS_NAME,'freebirdMaterialImageoptionImage')))\n",
    "        try:\n",
    "        \n",
    "            images = self.browser.find_elements_by_class_name('freebirdMaterialImageoptionImage')\n",
    "            for image in images:\n",
    "                if image.get_attribute('src') == \"https://lh5.googleusercontent.com/udJduoUhxqlxASZ8_fCE2BtiC8RHRto0hP_0JNZgv73DlZVALTNEGfoxvcNMZmOlu1jJBJZX2nm33LTdfXZs7FaTEAqF0cAQgFIWFoF1Rw11D15uZM2p9JOHU__J=w260\":\n",
    "                    image.click()\n",
    "        except:\n",
    "            print('fail_safe: capitcha')\n",
    "            self.fail_safe()\n",
    "\n",
    "    def fail_safe(self):\n",
    "        global fail_safe\n",
    "        fail_safe += 1\n",
    "        self.get_form()\n",
    "        time.sleep(0.5)\n",
    "        try:\n",
    "            alert = self.browser.switch_to.alert\n",
    "            alert.accept()\n",
    "        except:\n",
    "            pass\n",
    "        finally:\n",
    "            self.execute()\n",
    "            \n",
    "    def go_back(self):\n",
    "        try:\n",
    "            click = self.browser. find_element_by_xpath(\"//a[contains(text(),'Enviar outra resposta')]\")\n",
    "            click.click()\n",
    "        except:\n",
    "            self.fail_safe()\n",
    "\n",
    "    def execute(self):\n",
    "        global sleep\n",
    "        self.capitcha()\n",
    "        self.confirm(0)\n",
    "        self.vote()\n",
    "        validator = self.confirm(1)\n",
    "        \n",
    "        \n",
    "        count(self.Id)\n",
    "        self.contador += 1\n",
    "        \n",
    "        if self.contador%100 == 0:\n",
    "            log()\n",
    "    #         rand = random.randint(0,sleep)\n",
    "        time.sleep(sleep)\n",
    "        self.go_back()\n",
    "\n",
    "    def run(self):\n",
    "        bot(self)\n",
    "        \n",
    "#     def __str__(self):\n",
    "#         return 'number' + self.number + ', target: ' + self.target + ', ' + self.contador"
   ]
  },
  {
   "cell_type": "code",
   "execution_count": 3,
   "metadata": {
    "pycharm": {
     "name": "#%%\n"
    }
   },
   "outputs": [],
   "source": [
    "def log():\n",
    "    global contador0\n",
    "    global contador1\n",
    "    global contador2\n",
    "    time.sleep(random.randint(0,10))\n",
    "    f = open(\"log.txt\",\"w\")\n",
    "    f.writelines([str(contador0),'\\n',str(contador1),'\\n', str(contador2)])\n",
    "    f.close()\n",
    "\n",
    "def count(id):\n",
    "        global contador0\n",
    "        global contador1\n",
    "        global contador2\n",
    "        if id == 0:\n",
    "            contador0 += 1\n",
    "        if id == 1:\n",
    "            contador1 += 1\n",
    "        if id == 2:\n",
    "            contador2 += 1\n",
    "            \n",
    "    "
   ]
  },
  {
   "cell_type": "code",
   "execution_count": 4,
   "metadata": {
    "pycharm": {
     "name": "#%%\n"
    }
   },
   "outputs": [],
   "source": [
    "def bot(votador):\n",
    "    global kill\n",
    "    continua = True\n",
    "    while continua:\n",
    "        votador.execute()\n",
    "        if kill:\n",
    "            time.sleep(random.randint(0,20))\n",
    "            log()\n",
    "            votador.browser.quit()\n",
    "            continua = False"
   ]
  },
  {
   "cell_type": "code",
   "execution_count": 5,
   "metadata": {},
   "outputs": [],
   "source": [
    "bot_list = []"
   ]
  },
  {
   "cell_type": "code",
   "execution_count": 6,
   "metadata": {
    "pycharm": {
     "name": "#%%\n"
    },
    "scrolled": false
   },
   "outputs": [],
   "source": [
    "def init():\n",
    "    number_on0 = 0\n",
    "    number_on1 = 12\n",
    "    number_on2 = 0\n",
    "    bot_list = []\n",
    "    create_bots(bot_list, 0, number_on0)\n",
    "    create_bots(bot_list, 1, number_on1)\n",
    "    create_bots(bot_list, 2, number_on2)\n",
    "    \n",
    "#     for bot in bot_list:\n",
    "#         bot.start()\n",
    "    \n",
    "    return bot_list\n",
    "\n",
    "def create_bots(bot_list, Id, quant):\n",
    "    for a in range(quant):\n",
    "        bot = Votador(link, Id)\n",
    "        bot.start()\n",
    "        bot_list.append(bot)\n",
    "\n",
    "        \n",
    "bots = init()\n",
    "bot_list = bot_list + bots"
   ]
  },
  {
   "cell_type": "code",
   "execution_count": 7,
   "metadata": {
    "pycharm": {
     "name": "#%%\n"
    }
   },
   "outputs": [],
   "source": [
    "old0 = contador0\n",
    "old1 = contador1\n",
    "old2 = contador2\n",
    "oldt = time.time()\n",
    "\n"
   ]
  },
  {
   "cell_type": "code",
   "execution_count": 20,
   "metadata": {
    "pycharm": {
     "name": "#%%\n"
    },
    "scrolled": false
   },
   "outputs": [
    {
     "name": "stdout",
     "output_type": "stream",
     "text": [
      "[3294, 48021, 1232] time elapsed:  38.63855743408203\n",
      "Diferenca:  [0, 123, 0]\n",
      "Numero de bots:  12 , fail_safes:  0\n",
      "Velocidade média:  11459.765676874136\n"
     ]
    }
   ],
   "source": [
    "print([contador0, contador1, contador2], 'time elapsed: ', time.time() - oldt)\n",
    "print('Diferenca: ', [contador0 - old0, contador1 - old1, contador2 - old2])\n",
    "print('Numero de bots: ',len(bot_list), ', fail_safes: ', fail_safe)\n",
    "vel = (contador0 - old0 + contador1 - old1 + contador2 - old2)*3600/(time.time() - oldt) \n",
    "print('Velocidade média: ', vel)\n",
    "old0 = contador0\n",
    "old1 = contador1\n",
    "old2 = contador2\n",
    "oldt = time.time()"
   ]
  },
  {
   "cell_type": "code",
   "execution_count": 15,
   "metadata": {
    "pycharm": {
     "name": "#%%\n"
    }
   },
   "outputs": [
    {
     "data": {
      "text/plain": [
       "17"
      ]
     },
     "execution_count": 15,
     "metadata": {},
     "output_type": "execute_result"
    }
   ],
   "source": [
    "threading.active_count()"
   ]
  },
  {
   "cell_type": "code",
   "execution_count": null,
   "metadata": {
    "pycharm": {
     "name": "#%%\n"
    }
   },
   "outputs": [],
   "source": []
  },
  {
   "cell_type": "code",
   "execution_count": null,
   "metadata": {
    "pycharm": {
     "name": "#%%\n"
    }
   },
   "outputs": [],
   "source": [
    "\n",
    "kill = True\n",
    "\n"
   ]
  },
  {
   "cell_type": "code",
   "execution_count": null,
   "metadata": {},
   "outputs": [
    {
     "name": "stdout",
     "output_type": "stream",
     "text": [
      "[3294, 48041, 1232] time elapsed:  5.738871097564697\n",
      "Diferenca:  [0, 20, 0]\n",
      "Numero de bots:  12 , fail_safes:  0\n",
      "Velocidade média:  12546.021469371104\n",
      "[3294, 48140, 1232] time elapsed:  30.000810146331787\n",
      "Diferenca:  [0, 99, 0]\n",
      "Numero de bots:  12 , fail_safes:  0\n",
      "Velocidade média:  11878.907166883439\n"
     ]
    }
   ],
   "source": [
    "continua = True\n",
    "while continua:\n",
    "    print([contador0, contador1, contador2], 'time elapsed: ', time.time() - oldt)\n",
    "    print('Diferenca: ', [contador0 - old0, contador1 - old1, contador2 - old2])\n",
    "    print('Numero de bots: ',len(bot_list), ', fail_safes: ', fail_safe)\n",
    "    vel = (contador0 - old0 + contador1 - old1 + contador2 - old2)*3600/(time.time() - oldt) \n",
    "    print('Velocidade média: ', vel)\n",
    "    old0 = contador0\n",
    "    old1 = contador1\n",
    "    old2 = contador2\n",
    "    oldt = time.time()\n",
    "    time.sleep(30)\n",
    "    if fail_safe > 100:\n",
    "        continua = False\n",
    "        kill = True"
   ]
  },
  {
   "cell_type": "code",
   "execution_count": null,
   "metadata": {
    "pycharm": {
     "name": "#%%\n"
    }
   },
   "outputs": [],
   "source": [
    "def print_contagem():\n",
    "    global contador0\n",
    "    global contador1\n",
    "    global contador2\n",
    "    continua = True\n",
    "    global start_time\n",
    "    global kill\n",
    "    old0 = contador0\n",
    "    old1 = contador1\n",
    "    old2 = contador2\n",
    "    while continua:\n",
    "        print([contador0, contador1, contador2], 'time elapsed: ', time.time() - start_time)\n",
    "        print('Diferenca: ', [contador0 - old0, contador1 - old1, contador2 - old2])\n",
    "        old0 = contador0\n",
    "        old1 = contador1\n",
    "        old2 = contador2\n",
    "        time.sleep(60)\n",
    "        if kill:\n",
    "            continua = False\n",
    "            return\n",
    "\n",
    "x = threading.Thread(target=print_contagem)\n",
    "x.start()\n"
   ]
  },
  {
   "cell_type": "code",
   "execution_count": null,
   "metadata": {
    "pycharm": {
     "name": "#%%\n"
    }
   },
   "outputs": [],
   "source": [
    "def desliga():\n",
    "    global sleep\n",
    "    continua = True\n",
    "    global kill\n",
    "    startt = time.time()\n",
    "    while continua:\n",
    "        sleep += 1\n",
    "        time.sleep(20)\n",
    "        if kill:\n",
    "            continua = False\n",
    "        if time.time() - startt > 600:\n",
    "            kill = True\n",
    "\n",
    "x = threading.Thread(target=desliga)\n",
    "x.start()\n"
   ]
  },
  {
   "cell_type": "code",
   "execution_count": null,
   "metadata": {
    "pycharm": {
     "name": "#%%\n"
    }
   },
   "outputs": [],
   "source": [
    "global results\n",
    "results = []\n",
    "\n",
    "def evaluate():\n",
    "    global contador1\n",
    "    global kill\n",
    "    global results\n",
    "    init()\n",
    "    time.sleep(20)\n",
    "    i = 1\n",
    "    continua = True\n",
    "    while continua:\n",
    "        old1 = contador1\n",
    "        time.sleep(60)\n",
    "        result = contador1 - old1\n",
    "        results.append(result)\n",
    "        init()\n",
    "        time.sleep(20)\n",
    "        print(i)\n",
    "        i += 1\n",
    "        if kill == True:\n",
    "            continua = False\n",
    "    \n",
    "    \n",
    "x = threading.Thread(target=evaluate)\n",
    "x.start()\n"
   ]
  },
  {
   "cell_type": "code",
   "execution_count": null,
   "metadata": {
    "pycharm": {
     "name": "#%%\n"
    },
    "scrolled": false
   },
   "outputs": [],
   "source": [
    "sleep = 0"
   ]
  },
  {
   "cell_type": "code",
   "execution_count": null,
   "metadata": {
    "pycharm": {
     "name": "#%%\n"
    }
   },
   "outputs": [],
   "source": [
    "results"
   ]
  },
  {
   "cell_type": "code",
   "execution_count": null,
   "metadata": {
    "pycharm": {
     "name": "#%%\n"
    }
   },
   "outputs": [],
   "source": [
    "result_by_thread = []\n",
    "for i in range(len(results)-2):\n",
    "    result_by_thread.append(results[i]*60)\n",
    "result_by_thread"
   ]
  },
  {
   "cell_type": "code",
   "execution_count": null,
   "metadata": {
    "pycharm": {
     "name": "#%%\n"
    }
   },
   "outputs": [],
   "source": [
    "kill = True"
   ]
  },
  {
   "cell_type": "code",
   "execution_count": null,
   "metadata": {
    "pycharm": {
     "name": "#%%\n"
    }
   },
   "outputs": [],
   "source": [
    "threading.active_count()"
   ]
  },
  {
   "cell_type": "code",
   "execution_count": null,
   "metadata": {
    "pycharm": {
     "name": "#%%\n"
    }
   },
   "outputs": [],
   "source": []
  },
  {
   "cell_type": "code",
   "execution_count": null,
   "metadata": {
    "pycharm": {
     "name": "#%%\n"
    }
   },
   "outputs": [],
   "source": []
  },
  {
   "cell_type": "code",
   "execution_count": null,
   "metadata": {
    "pycharm": {
     "name": "#%%\n"
    }
   },
   "outputs": [],
   "source": []
  },
  {
   "cell_type": "code",
   "execution_count": null,
   "metadata": {
    "pycharm": {
     "name": "#%%\n"
    }
   },
   "outputs": [],
   "source": []
  },
  {
   "cell_type": "code",
   "execution_count": null,
   "metadata": {
    "pycharm": {
     "name": "#%%\n"
    }
   },
   "outputs": [],
   "source": []
  },
  {
   "cell_type": "code",
   "execution_count": null,
   "metadata": {
    "pycharm": {
     "name": "#%%\n"
    }
   },
   "outputs": [],
   "source": []
  },
  {
   "cell_type": "code",
   "execution_count": null,
   "metadata": {
    "pycharm": {
     "name": "#%%\n"
    }
   },
   "outputs": [],
   "source": []
  },
  {
   "cell_type": "code",
   "execution_count": null,
   "metadata": {
    "pycharm": {
     "name": "#%%\n"
    }
   },
   "outputs": [],
   "source": []
  },
  {
   "cell_type": "code",
   "execution_count": null,
   "metadata": {
    "pycharm": {
     "name": "#%%\n"
    }
   },
   "outputs": [],
   "source": []
  },
  {
   "cell_type": "code",
   "execution_count": null,
   "metadata": {},
   "outputs": [],
   "source": []
  },
  {
   "cell_type": "code",
   "execution_count": null,
   "metadata": {},
   "outputs": [],
   "source": [
    "kill = True"
   ]
  },
  {
   "cell_type": "code",
   "execution_count": null,
   "metadata": {},
   "outputs": [],
   "source": [
    "threading.active_count()"
   ]
  },
  {
   "cell_type": "code",
   "execution_count": null,
   "metadata": {},
   "outputs": [],
   "source": []
  },
  {
   "cell_type": "code",
   "execution_count": null,
   "metadata": {},
   "outputs": [],
   "source": []
  },
  {
   "cell_type": "code",
   "execution_count": null,
   "metadata": {},
   "outputs": [],
   "source": []
  },
  {
   "cell_type": "code",
   "execution_count": null,
   "metadata": {},
   "outputs": [],
   "source": []
  },
  {
   "cell_type": "code",
   "execution_count": null,
   "metadata": {},
   "outputs": [],
   "source": []
  },
  {
   "cell_type": "code",
   "execution_count": null,
   "metadata": {},
   "outputs": [],
   "source": []
  },
  {
   "cell_type": "code",
   "execution_count": null,
   "metadata": {},
   "outputs": [],
   "source": []
  },
  {
   "cell_type": "code",
   "execution_count": null,
   "metadata": {},
   "outputs": [],
   "source": []
  },
  {
   "cell_type": "code",
   "execution_count": null,
   "metadata": {},
   "outputs": [],
   "source": []
  }
 ],
 "metadata": {
  "kernelspec": {
   "display_name": "Python 3",
   "language": "python",
   "name": "python3"
  },
  "language_info": {
   "codemirror_mode": {
    "name": "ipython",
    "version": 3
   },
   "file_extension": ".py",
   "mimetype": "text/x-python",
   "name": "python",
   "nbconvert_exporter": "python",
   "pygments_lexer": "ipython3",
   "version": "3.7.6"
  }
 },
 "nbformat": 4,
 "nbformat_minor": 1
}
