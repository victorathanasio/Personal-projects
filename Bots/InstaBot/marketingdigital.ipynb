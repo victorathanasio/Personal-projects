{
 "cells": [
  {
   "cell_type": "code",
   "execution_count": 1,
   "metadata": {
    "collapsed": true
   },
   "outputs": [],
   "source": [
    "import pickle\n",
    "from selenium import webdriver"
   ]
  },
  {
   "cell_type": "code",
   "execution_count": 2,
   "outputs": [],
   "source": [
    "def save_cookies(driver, name):\n",
    "    pickle.dump(driver.get_cookies(), open(name, \"wb\"))\n",
    "\n",
    "\n",
    "def load_cookies(driver, name, url=None):\n",
    "    cookies = pickle.load(open(name, \"rb\"))\n",
    "    driver.delete_all_cookies()\n",
    "    # have to be on a page before you can add any cookies, any page - does not matter which\n",
    "    driver.get(\"https://google.com\" if url is None else url)\n",
    "    for cookie in cookies:\n",
    "        if 'expiry' in cookie:\n",
    "            del cookie['expiry']\n",
    "        driver.add_cookie(cookie)"
   ],
   "metadata": {
    "collapsed": false,
    "pycharm": {
     "name": "#%%\n"
    }
   }
  },
  {
   "cell_type": "code",
   "execution_count": 3,
   "outputs": [],
   "source": [
    "class marketing():\n",
    "    def __init__(self, account):\n",
    "        self.chrome = webdriver.Chrome()\n",
    "        load_cookies(self.chrome, account)\n",
    "        self.chrome.get(\"https://www.instagram.com/explore/tags/marketingdigital/\")\n",
    "        save_cookies(self.chrome, account)"
   ],
   "metadata": {
    "collapsed": false,
    "pycharm": {
     "name": "#%%\n"
    }
   }
  },
  {
   "cell_type": "code",
   "execution_count": 4,
   "outputs": [],
   "source": [
    "chrome = webdriver.Chrome()\n"
   ],
   "metadata": {
    "collapsed": false,
    "pycharm": {
     "name": "#%%\n"
    }
   }
  },
  {
   "cell_type": "code",
   "execution_count": 6,
   "outputs": [],
   "source": [
    "load_cookies(chrome, 'Atha')\n"
   ],
   "metadata": {
    "collapsed": false,
    "pycharm": {
     "name": "#%%\n"
    }
   }
  },
  {
   "cell_type": "code",
   "execution_count": 34,
   "outputs": [],
   "source": [
    "chrome.get(\"https://www.instagram.com/explore/tags/marketingdigital/\")\n",
    "\n",
    "photos = chrome.find_elements_by_class_name('kIKUG')"
   ],
   "metadata": {
    "collapsed": false,
    "pycharm": {
     "name": "#%%\n"
    }
   }
  },
  {
   "cell_type": "code",
   "execution_count": 35,
   "outputs": [],
   "source": [
    "photos[0].click()"
   ],
   "metadata": {
    "collapsed": false,
    "pycharm": {
     "name": "#%%\n"
    }
   }
  },
  {
   "cell_type": "code",
   "execution_count": 39,
   "outputs": [],
   "source": [
    "like_btn = chrome.find_elements_by_class_name('wpO6b')\n",
    "\n"
   ],
   "metadata": {
    "collapsed": false,
    "pycharm": {
     "name": "#%%\n"
    }
   }
  },
  {
   "cell_type": "code",
   "execution_count": 40,
   "outputs": [
    {
     "data": {
      "text/plain": "30"
     },
     "execution_count": 40,
     "metadata": {},
     "output_type": "execute_result"
    }
   ],
   "source": [
    "len(like_btn)\n"
   ],
   "metadata": {
    "collapsed": false,
    "pycharm": {
     "name": "#%%\n"
    }
   }
  }
 ],
 "metadata": {
  "kernelspec": {
   "display_name": "Python 3",
   "language": "python",
   "name": "python3"
  },
  "language_info": {
   "codemirror_mode": {
    "name": "ipython",
    "version": 2
   },
   "file_extension": ".py",
   "mimetype": "text/x-python",
   "name": "python",
   "nbconvert_exporter": "python",
   "pygments_lexer": "ipython2",
   "version": "2.7.6"
  }
 },
 "nbformat": 4,
 "nbformat_minor": 0
}