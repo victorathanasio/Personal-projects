{
 "cells": [
  {
   "cell_type": "code",
   "execution_count": null,
   "metadata": {
    "collapsed": true
   },
   "outputs": [],
   "source": []
  },
  {
   "cell_type": "code",
   "execution_count": 1,
   "outputs": [],
   "source": [
    "import numpy as np\n",
    "from sympy import *\n",
    "init_printing(use_unicode=False)\n",
    "L00, L11, L22, L33, L44 = symbols('L00 L11 L22 L33 L44')\n",
    "L10, L20, L30, L40 = symbols('L10 L20 L30 L40')\n",
    "L21, L31, L41 = symbols('L21 L31 L41')\n",
    "L32, L42 = symbols('L32 L42')\n",
    "L43 = symbols('L43')\n",
    "D0, D1, D2, D3, D4 = symbols('D0 D1 D2 D3 D4')"
   ],
   "metadata": {
    "collapsed": false,
    "pycharm": {
     "name": "#%%\n"
    }
   }
  },
  {
   "cell_type": "code",
   "execution_count": 2,
   "outputs": [],
   "source": [
    "L = Matrix([[1, 0, 0, 0, 0],\n",
    "            [L10, 1, 0, 0, 0],\n",
    "            [L20, L21, 1, 0, 0],\n",
    "            [L30, L31, L32, 1, 0],\n",
    "            [L40, L41, L42, L43, 1]\n",
    "])\n",
    "\n",
    "\n",
    "Lt = L.transpose()\n",
    "\n",
    "D = Matrix([\n",
    "    [D0, 0, 0, 0, 0],\n",
    "    [0, D1, 0, 0, 0],\n",
    "    [0, 0, D2, 0, 0],\n",
    "    [0, 0, 0, D3, 0],\n",
    "    [0, 0, 0, 0, D4]\n",
    "])"
   ],
   "metadata": {
    "collapsed": false,
    "pycharm": {
     "name": "#%%\n"
    }
   }
  },
  {
   "cell_type": "code",
   "execution_count": 3,
   "outputs": [],
   "source": [
    "A = L*D*Lt"
   ],
   "metadata": {
    "collapsed": false,
    "pycharm": {
     "name": "#%%\n"
    }
   }
  },
  {
   "cell_type": "code",
   "execution_count": 4,
   "outputs": [
    {
     "name": "stdout",
     "output_type": "stream",
     "text": [
      "D0\n",
      "D0*L10**2 + D1\n",
      "D0*L20**2 + D1*L21**2 + D2\n",
      "D0*L30**2 + D1*L31**2 + D2*L32**2 + D3\n",
      "D0*L40**2 + D1*L41**2 + D2*L42**2 + D3*L43**2 + D4\n",
      "-----------------------------\n",
      "D0*L10\n",
      "D0*L10*L20 + D1*L21\n",
      "D0*L20*L30 + D1*L21*L31 + D2*L32\n",
      "D0*L30*L40 + D1*L31*L41 + D2*L32*L42 + D3*L43\n",
      "-----------------------------\n",
      "D0*L20\n",
      "D0*L10*L30 + D1*L31\n",
      "D0*L20*L40 + D1*L21*L41 + D2*L42\n",
      "-----------------------------\n",
      "D0*L30\n",
      "D0*L10*L40 + D1*L41\n",
      "-----------------------------\n",
      "D0*L40\n",
      "-----------------------------\n"
     ]
    }
   ],
   "source": [
    "mod = A.shape[0]\n",
    "mods = []\n",
    "Diags = []\n",
    "for b in range(mod):\n",
    "    Diags.append([])\n",
    "    mods.append(b)\n",
    "\n",
    "for desloc in range(A.shape[0]):\n",
    "    for i in range(A.shape[0]):\n",
    "        for j in range(A.shape[0]):\n",
    "            if i == j + desloc:\n",
    "                Diags[desloc].append(A[i,j])\n",
    "                print(A[i,j])\n",
    "    print('-----------------------------')"
   ],
   "metadata": {
    "collapsed": false,
    "pycharm": {
     "name": "#%%\n"
    }
   }
  },
  {
   "cell_type": "code",
   "execution_count": 5,
   "outputs": [
    {
     "name": "stdout",
     "output_type": "stream",
     "text": [
      "D0*L10\n",
      "D0*L10**2 + D1\n",
      "D0*L10*L20 + D1*L21\n",
      "D0*L10*L30 + D1*L31\n",
      "D0*L10*L40 + D1*L41\n"
     ]
    }
   ],
   "source": [
    "for elemente in A.col(1):\n",
    "    print(elemente)\n",
    "\n"
   ],
   "metadata": {
    "collapsed": false,
    "pycharm": {
     "name": "#%%\n"
    }
   }
  },
  {
   "cell_type": "code",
   "execution_count": 27,
   "outputs": [
    {
     "name": "stdout",
     "output_type": "stream",
     "text": [
      "\\left[\\begin{matrix}bo\\\\b_{1}\\\\b_{2}\\\\b_{3}\\\\b_{4}\\end{matrix}\\right]\n"
     ]
    },
    {
     "data": {
      "text/plain": "[bo]\n[  ]\n[b1]\n[  ]\n[b2]\n[  ]\n[b3]\n[  ]\n[b4]",
      "text/latex": "$\\displaystyle \\left[\\begin{matrix}bo\\\\b_{1}\\\\b_{2}\\\\b_{3}\\\\b_{4}\\end{matrix}\\right]$"
     },
     "execution_count": 27,
     "metadata": {},
     "output_type": "execute_result"
    }
   ],
   "source": [
    "A00, A11, A22, A33, A44 = symbols('A00 A11 A22 A33 A44')\n",
    "A10, A20, A30, A40 = symbols('A10 A20 A30 A40')\n",
    "A21, A31, A41 = symbols('A21 A31 A41')\n",
    "A32, A42 = symbols('A32 A42')\n",
    "A43 = symbols('A43')\n",
    "\n",
    "\n",
    "T = Matrix([[0, 0, 0, 0, 0],\n",
    "            [A10, 0, 0, 0, 0],\n",
    "            [A20, A21, 0, 0, 0],\n",
    "            [A30, A31, A32, 0, 0],\n",
    "            [A40, A41, A42, A43, 0]\n",
    "])\n",
    "\n",
    "T = T + T.transpose()\n",
    "DT = Matrix([\n",
    "    [A00, 0, 0, 0, 0],\n",
    "    [0, A11, 0, 0, 0],\n",
    "    [0, 0, A22, 0, 0],\n",
    "    [0, 0, 0, A33, 0],\n",
    "    [0, 0, 0, 0, A44]\n",
    "])\n",
    "\n",
    "T += DT\n",
    "x = T - A\n",
    "\n",
    "b0, b1, b2, b3, b4 = symbols('bo b1 b2 b3 b4')\n",
    "\n",
    "\n",
    "b = Matrix([b0, b1, b2, b3, b4])\n",
    "\n",
    "\n",
    "\n",
    "print(latex(b))\n",
    "b"
   ],
   "metadata": {
    "collapsed": false,
    "pycharm": {
     "name": "#%%\n"
    }
   }
  }
 ],
 "metadata": {
  "kernelspec": {
   "display_name": "Python 3",
   "language": "python",
   "name": "python3"
  },
  "language_info": {
   "codemirror_mode": {
    "name": "ipython",
    "version": 2
   },
   "file_extension": ".py",
   "mimetype": "text/x-python",
   "name": "python",
   "nbconvert_exporter": "python",
   "pygments_lexer": "ipython2",
   "version": "2.7.6"
  }
 },
 "nbformat": 4,
 "nbformat_minor": 0
}