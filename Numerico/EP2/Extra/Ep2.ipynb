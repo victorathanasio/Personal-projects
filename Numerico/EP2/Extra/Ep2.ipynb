{
 "cells": [
  {
   "cell_type": "code",
   "execution_count": 25,
   "outputs": [
    {
     "data": {
      "text/plain": "6.0"
     },
     "execution_count": 25,
     "metadata": {},
     "output_type": "execute_result"
    }
   ],
   "source": [
    "a = [6.0, 0.0, 4.0, 5.0]\n",
    "def maior_subsequencia_linear(lista):\n",
    "    maior = 0\n",
    "    subseq = []\n",
    "    for i in range(len(lista)):\n",
    "        if len(subseq) == 0:\n",
    "            subseq.append(lista[i])\n",
    "        if lista[i] > subseq[-1]:\n",
    "            subseq.append(lista[i])\n",
    "        else:\n",
    "            possivel_maior = len(subseq)\n",
    "            subseq = [lista[i]]\n",
    "            if possivel_maior > maior:\n",
    "                maior = possivel_maior\n",
    "    possivel_maior = len(subseq)\n",
    "    subseq = [lista[i]]\n",
    "    if possivel_maior > maior:\n",
    "        maior = possivel_maior\n",
    "\n",
    "    return maior\n",
    "\n",
    "maior_subsequencia_linear(a)\n",
    "max(a)"
   ],
   "metadata": {
    "collapsed": false,
    "pycharm": {
     "name": "#%%\n"
    }
   }
  },
  {
   "cell_type": "code",
   "execution_count": 15,
   "outputs": [],
   "source": [
    "class Pilha():\n",
    "  def __init__(self):\n",
    "    self._v = []\n",
    "\n",
    "  def push(self, x):\n",
    "    self._v.append(x)\n",
    "\n",
    "  def pop(self):\n",
    "    return self._v.pop()\n",
    "\n",
    "  def __len__(self):\n",
    "    return len(self._v)\n",
    "\n",
    "  def top(self):\n",
    "    return self._v[-1]"
   ],
   "metadata": {
    "collapsed": false,
    "pycharm": {
     "name": "#%%\n"
    }
   }
  },
  {
   "cell_type": "code",
   "execution_count": 31,
   "outputs": [],
   "source": [
    "class PilhaMax(Pilha):\n",
    "    def __init__(self):\n",
    "        self._v = []\n",
    "\n",
    "    def max(self):\n",
    "        return max(self._v)"
   ],
   "metadata": {
    "collapsed": false,
    "pycharm": {
     "name": "#%%\n"
    }
   }
  },
  {
   "cell_type": "code",
   "execution_count": 32,
   "outputs": [],
   "source": [
    "a = PilhaMax()"
   ],
   "metadata": {
    "collapsed": false,
    "pycharm": {
     "name": "#%%\n"
    }
   }
  },
  {
   "cell_type": "code",
   "execution_count": 33,
   "outputs": [],
   "source": [
    "a.push(0)"
   ],
   "metadata": {
    "collapsed": false,
    "pycharm": {
     "name": "#%%\n"
    }
   }
  },
  {
   "cell_type": "code",
   "execution_count": 34,
   "outputs": [
    {
     "data": {
      "text/plain": "0"
     },
     "execution_count": 34,
     "metadata": {},
     "output_type": "execute_result"
    }
   ],
   "source": [
    "a.pop()\n"
   ],
   "metadata": {
    "collapsed": false,
    "pycharm": {
     "name": "#%%\n"
    }
   }
  }
 ],
 "metadata": {
  "kernelspec": {
   "name": "pycharm-ce5be249",
   "language": "python",
   "display_name": "PyCharm (Contas)"
  },
  "language_info": {
   "codemirror_mode": {
    "name": "ipython",
    "version": 2
   },
   "file_extension": ".py",
   "mimetype": "text/x-python",
   "name": "python",
   "nbconvert_exporter": "python",
   "pygments_lexer": "ipython2",
   "version": "2.7.6"
  }
 },
 "nbformat": 4,
 "nbformat_minor": 0
}