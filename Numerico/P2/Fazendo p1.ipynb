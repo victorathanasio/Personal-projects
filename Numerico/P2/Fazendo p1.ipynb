{
 "cells": [
  {
   "cell_type": "code",
   "execution_count": 2,
   "metadata": {
    "collapsed": true,
    "pycharm": {
     "name": "#%%\n"
    }
   },
   "outputs": [
    {
     "name": "stdout",
     "output_type": "stream",
     "text": [
      "\n",
      "\n",
      "Interacao  0\n",
      "Antes da iteracao\n",
      "⎡7.4   6.0   0.7  -42.1⎤\n",
      "⎢                      ⎥\n",
      "⎢-6.7  -5.2  5.6  22.2 ⎥\n",
      "⎢                      ⎥\n",
      "⎣-2.7  -1.4  7.4  -6.47⎦\n",
      "Depois da iteracao\n",
      "matriz\n",
      "⎡7.4  6.0   0.7   -42.1⎤\n",
      "⎢                      ⎥\n",
      "⎢ 0   0.23  6.23  -15.9⎥\n",
      "⎢                      ⎥\n",
      "⎣ 0   0.79  7.66  -21.9⎦\n",
      "[]\n",
      "multiplicadores\n",
      "⎡  0     0  0  0⎤\n",
      "⎢               ⎥\n",
      "⎢-0.905  0  0  0⎥\n",
      "⎢               ⎥\n",
      "⎣-0.365  0  0  0⎦\n",
      "\n",
      "\n",
      "Interacao  1\n",
      "Antes da iteracao\n",
      "⎡7.4  6.0   0.7   -42.1⎤\n",
      "⎢                      ⎥\n",
      "⎢ 0   0.23  6.23  -15.9⎥\n",
      "⎢                      ⎥\n",
      "⎣ 0   0.79  7.66  -21.9⎦\n",
      "Depois da iteracao\n",
      "matriz\n",
      "⎡7.4  6.0   0.7   -42.1⎤\n",
      "⎢                      ⎥\n",
      "⎢ 0   0.79  7.66  -21.9⎥\n",
      "⎢                      ⎥\n",
      "⎣ 0    0    4.0   -9.53⎦\n",
      "[(1, 2, 'Col 1')]\n",
      "multiplicadores\n",
      "⎡  0       0    0  0⎤\n",
      "⎢                   ⎥\n",
      "⎢-0.365    0    0  0⎥\n",
      "⎢                   ⎥\n",
      "⎣-0.905  0.291  0  0⎦\n",
      "\n",
      "\n",
      "Interacao  2\n",
      "Antes da iteracao\n",
      "⎡7.4  6.0   0.7   -42.1⎤\n",
      "⎢                      ⎥\n",
      "⎢ 0   0.79  7.66  -21.9⎥\n",
      "⎢                      ⎥\n",
      "⎣ 0    0    4.0   -9.53⎦\n",
      "Depois da iteracao\n",
      "matriz\n",
      "⎡7.4  6.0   0.7   -42.1⎤\n",
      "⎢                      ⎥\n",
      "⎢ 0   0.79  7.66  -21.9⎥\n",
      "⎢                      ⎥\n",
      "⎣ 0    0    4.0   -9.53⎦\n",
      "[(1, 2, 'Col 1')]\n",
      "multiplicadores\n",
      "⎡  0       0    0  0⎤\n",
      "⎢                   ⎥\n",
      "⎢-0.365    0    0  0⎥\n",
      "⎢                   ⎥\n",
      "⎣-0.905  0.291  0  0⎦\n"
     ]
    },
    {
     "data": {
      "text/plain": "⎡    0.128673724    ⎤\n⎢                   ⎥\n⎢    0.147548842    ⎥\n⎢                   ⎥\n⎣0.00443928000000016⎦",
      "text/latex": "$\\displaystyle \\left[\\begin{matrix}0.128673724\\\\0.147548842\\\\0.00443928000000016\\end{matrix}\\right]$"
     },
     "execution_count": 2,
     "metadata": {},
     "output_type": "execute_result"
    }
   ],
   "source": [
    "import numpy as np\n",
    "from sympy import *\n",
    "from sympy.calculus.util import continuous_domain\n",
    "import pandas as pd\n",
    "import copy\n",
    "from P1 import *\n",
    "\n",
    "\n",
    "init_printing(use_unicode=True)\n",
    "\n",
    "\n",
    "\n",
    "# a.B\n",
    "\n",
    "# matrix  = Matrix([\n",
    "#     [8.8,-1.3,-6.8, -36.4],\n",
    "#     [9.7, 4.5, 5.6, 108],\n",
    "#     [7.5,-0.5,-0.8,9.06],\n",
    "# ])\n",
    "\n",
    "matrix = Matrix([\n",
    "[7.40, 6.00, 0.700, -42.1],\n",
    "[-6.70, -5.20, 5.60, 22.2],\n",
    "[-2.70, -1.40, 7.40, -6.47],\n",
    "])\n",
    "\n",
    "\n",
    "# matrix = Matrix([\n",
    "# [5.10, 3.20, -7.3, -136 ],\n",
    "# [-8.40, -5.20, 8.10, 186],\n",
    "# [4, 7.10, 0.4, -74]\n",
    "# ])\n",
    "# matrix = Matrix([[0.600, -9.90, -2.20, -47.2], [-3.70, -0.500, 1.80, -1.96], [4.4,8.10,1.8, 20.5]])\n",
    "\n",
    "\n",
    "\n",
    "# pprint(escalona_gauss(matrix, 3, True)[0])\n",
    "a = gauss_elimi(matrix, 3, True, 0.001)\n",
    "#a.recursi()\n",
    "\n",
    "\n",
    "\n",
    "\n",
    "\n",
    "# vec = Matrix([-9.390888310, -5.671787784, 9.583116262])\n",
    "# vec = Matrix([-3.51584937, 1.021725838, 0.4840877769])\n",
    "vec = Matrix([-1.788673724, -4.532451158, -2.384439280])\n",
    "# # for x in a.xs:\n",
    "# #     pprint(x-vec)\n",
    "abs(a.xs[0] - vec)"
   ]
  },
  {
   "cell_type": "code",
   "execution_count": 3,
   "outputs": [
    {
     "data": {
      "text/plain": "0.147548842000000",
      "image/png": "[encoded data removed]",
      "text/latex": "$\\displaystyle 0.147548842$"
     },
     "execution_count": 3,
     "metadata": {},
     "output_type": "execute_result"
    }
   ],
   "source": [
    "\n",
    "max(abs(a.xs[0] - vec))"
   ],
   "metadata": {
    "collapsed": false,
    "pycharm": {
     "name": "#%%\n"
    }
   }
  },
  {
   "cell_type": "code",
   "execution_count": 5,
   "outputs": [
    {
     "data": {
      "text/plain": "⎡-1.66⎤\n⎢     ⎥\n⎢-4.68⎥\n⎢     ⎥\n⎣-2.38⎦",
      "text/latex": "$\\displaystyle \\left[\\begin{matrix}-1.66\\\\-4.68\\\\-2.38\\end{matrix}\\right]$"
     },
     "execution_count": 5,
     "metadata": {},
     "output_type": "execute_result"
    }
   ],
   "source": [
    "a.xs[0]\n"
   ],
   "metadata": {
    "collapsed": false,
    "pycharm": {
     "name": "#%%\n"
    }
   }
  },
  {
   "cell_type": "code",
   "execution_count": 4,
   "outputs": [
    {
     "name": "stdout",
     "output_type": "stream",
     "text": [
      "achou em 1 iteracoes\n",
      "0.00225063500000000\n"
     ]
    }
   ],
   "source": [
    "A = Matrix([\n",
    "    [-0.3, -0.3, 6.5, 21.3],\n",
    "    [3.6, 3.4, -1.6, -10.7],\n",
    "    [7.8, -1, 1.5, -16.6]\n",
    "])\n",
    "\n",
    "Real = Matrix([-2.601908433, 1.117749365, 3.208423428])\n",
    "\n",
    "a = gauss_elimi(A, 3, True, 0.1)\n",
    "a.recursi()\n",
    "\n",
    "\n",
    "print(max(abs(a.xs[0] - Real)))"
   ],
   "metadata": {
    "collapsed": false,
    "pycharm": {
     "name": "#%% Elimini gauss\n"
    }
   }
  },
  {
   "cell_type": "code",
   "execution_count": 1,
   "outputs": [],
   "source": [
    "# A = Matrix([\n",
    "#     [-4, 9, -9, -6],\n",
    "#     [1, 3, 8, -6],\n",
    "#     [10, -8, 3, -5]\n",
    "# ])\n",
    "\n",
    "# A = Matrix([\n",
    "# [6, -11, 5, -3],\n",
    "# [-2, 7, -10, 10],\n",
    "# [12, -2, -10, 7]\n",
    "# ])\n",
    "#\n",
    "#\n",
    "#\n",
    "#\n",
    "# erro = 0.00100\n",
    "# var = 13.8\n",
    "# Ms = []\n",
    "#\n",
    "# Aswa = (0,1)\n",
    "# Bswa = (0,2)\n",
    "# Cswa = (1,2)\n",
    "#\n",
    "# swaps = [Aswa, Bswa, Cswa]\n",
    "#\n",
    "# matrizes = []\n",
    "# pes = []\n",
    "#\n",
    "# Perm = eye(3)\n",
    "#\n",
    "# def swap_recursi(iter, matriz, perm):\n",
    "#\n",
    "#     iter -= 1\n",
    "#     row = copy.deepcopy(matriz)\n",
    "#     col = copy.deepcopy(matriz)\n",
    "#     perm = copy.deepcopy(perm)\n",
    "#     counter = 0\n",
    "#\n",
    "#     for swap in swaps:\n",
    "#         counter += 1\n",
    "#         i = swap[0]\n",
    "#         j = swap[1]\n",
    "#         row_edit = copy.deepcopy(row)\n",
    "#         row_edit.row_swap(i,j)\n",
    "#         perm_edit = copy.deepcopy(perm)\n",
    "#         perm_edit.row_swap(i,j)\n",
    "#         matrizes.append(row_edit)\n",
    "#         pes.append(perm_edit)\n",
    "#         if iter > 0:\n",
    "#             swap_recursi(iter,row_edit, perm_edit)\n",
    "#\n",
    "#     for swap in swaps:\n",
    "#         counter += 1\n",
    "#         i = swap[0]\n",
    "#         j = swap[1]\n",
    "#         col_edit = copy.deepcopy(col)\n",
    "#         col_edit.col_swap(i,j)\n",
    "#\n",
    "#         perm_edit = copy.deepcopy(perm)\n",
    "#         perm_edit.col_swap(i,j)\n",
    "#\n",
    "#         matrizes.append(col_edit)\n",
    "#         pes.append(perm_edit)\n",
    "#         if iter > 0:\n",
    "#             swap_recursi(iter,col_edit, perm_edit)\n",
    "#\n",
    "#\n",
    "#\n",
    "# swap_recursi(4,A,Perm)\n",
    "#\n",
    "#\n",
    "# for matrix in matrizes:\n",
    "#     a = gauss_seidel(matrix, None, 0, None)\n",
    "#     Ms.append(a.M)\n",
    "#\n",
    "# Ms.sort()\n",
    "#\n",
    "# M = min(Ms)\n",
    "#\n",
    "#\n",
    "# print(M)\n",
    "# last = 100000\n",
    "# for i in range(0, 500):\n",
    "#     print(i, M**i/(1-M) * var - erro)\n",
    "\n",
    "\n",
    "\n",
    "\n"
   ],
   "metadata": {
    "collapsed": false,
    "pycharm": {
     "name": "#%% Gauss seidel\n"
    }
   }
  },
  {
   "cell_type": "code",
   "execution_count": 5,
   "outputs": [],
   "source": [],
   "metadata": {
    "collapsed": false,
    "pycharm": {
     "name": "#%%\n"
    }
   }
  },
  {
   "cell_type": "code",
   "execution_count": 6,
   "outputs": [],
   "source": [
    "# x = symbols('x')\n",
    "# g0 = x*0 + 1\n",
    "# g1 = x\n",
    "# g2 = x**2\n",
    "#\n",
    "# GS = [g0, g1, g2]\n",
    "# intervalo = Interval(2,9)\n",
    "#\n",
    "# Func = 10/9 + cbrt(2/7*x - 11/7)\n",
    "#\n",
    "# a = MMQ_conti(GS,x,Func,intervalo)\n",
    "#\n",
    "#\n"
   ],
   "metadata": {
    "collapsed": false,
    "pycharm": {
     "name": "#%%\n"
    }
   }
  }
 ],
 "metadata": {
  "kernelspec": {
   "name": "pycharm-ce5be249",
   "language": "python",
   "display_name": "PyCharm (Contas)"
  },
  "language_info": {
   "codemirror_mode": {
    "name": "ipython",
    "version": 2
   },
   "file_extension": ".py",
   "mimetype": "text/x-python",
   "name": "python",
   "nbconvert_exporter": "python",
   "pygments_lexer": "ipython2",
   "version": "2.7.6"
  }
 },
 "nbformat": 4,
 "nbformat_minor": 0
}